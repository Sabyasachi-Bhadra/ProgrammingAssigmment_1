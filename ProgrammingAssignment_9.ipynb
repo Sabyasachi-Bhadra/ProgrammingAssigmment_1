{
 "cells": [
  {
   "cell_type": "code",
   "execution_count": 1,
   "metadata": {},
   "outputs": [],
   "source": [
    "import os\n",
    "import logging"
   ]
  },
  {
   "cell_type": "code",
   "execution_count": 2,
   "metadata": {},
   "outputs": [],
   "source": [
    "if os.path.exists('assignment9.log'):\n",
    "    os.remove('assignment9.log')"
   ]
  },
  {
   "cell_type": "code",
   "execution_count": 3,
   "metadata": {},
   "outputs": [],
   "source": [
    "logging.basicConfig(filename = 'assignment9.log', level = logging.INFO, format = '%(asctime)s - %(message)s')"
   ]
  },
  {
   "cell_type": "code",
   "execution_count": 4,
   "metadata": {},
   "outputs": [
    {
     "name": "stderr",
     "output_type": "stream",
     "text": [
      "2021-06-02 09:18:09,700 - logging has started!!\n"
     ]
    }
   ],
   "source": [
    "console_log = logging.StreamHandler()\n",
    "console_log.setLevel(logging.DEBUG)\n",
    "format = logging.Formatter('%(asctime)s - %(message)s')\n",
    "console_log.setFormatter(format)\n",
    "logging.getLogger('').addHandler(console_log)\n",
    "logging.info('logging has started!!')"
   ]
  },
  {
   "cell_type": "markdown",
   "metadata": {},
   "source": [
    "1. Write a Python program to check if the given number is a Disarium Number?"
   ]
  },
  {
   "cell_type": "code",
   "execution_count": 5,
   "metadata": {},
   "outputs": [],
   "source": [
    "import math"
   ]
  },
  {
   "cell_type": "code",
   "execution_count": 6,
   "metadata": {},
   "outputs": [
    {
     "name": "stderr",
     "output_type": "stream",
     "text": [
      "2021-06-02 09:18:12,349 - 89\n",
      "2021-06-02 09:18:12,350 - initializing sum...\n",
      "2021-06-02 09:18:12,352 - collecting the right most digit from the given input...\n",
      "2021-06-02 09:18:12,353 - computing sum...\n",
      "2021-06-02 09:18:12,354 - collecting the right most digit from the given input...\n",
      "2021-06-02 09:18:12,356 - computing sum...\n",
      "2021-06-02 09:18:12,357 - Check if the given number is same as sum...\n"
     ]
    },
    {
     "data": {
      "text/plain": [
       "'Disarium'"
      ]
     },
     "execution_count": 6,
     "metadata": {},
     "output_type": "execute_result"
    }
   ],
   "source": [
    "def check_disarium(num):\n",
    "    try:\n",
    "        logging.info(str(num))\n",
    "        count_digit = len(str(num))\n",
    "        \n",
    "        logging.info('initializing sum...')\n",
    "        s = 0\n",
    "        x= num\n",
    "        while x!=0:\n",
    "            logging.info('collecting the right most digit from the given input...')\n",
    "            r = x % 10\n",
    "            logging.info('computing sum...')\n",
    "            s = (int)(s + math.pow(r,count_digit))\n",
    "            count_digit = count_digit - 1\n",
    "            x = x //10\n",
    "    except Exception as err:\n",
    "        logging.info('An error has occured!!')\n",
    "        logging.error(str(err))\n",
    "    finally:\n",
    "        logging.info('Check if the given number is same as sum...')\n",
    "        if s == num:\n",
    "            return 'Disarium'\n",
    "        else:\n",
    "            return 'Not Disarium'\n",
    "\n",
    "\n",
    "check_disarium(89)"
   ]
  },
  {
   "cell_type": "markdown",
   "metadata": {},
   "source": [
    "2. Write a Python program to print all disarium numbers between 1 to 100?"
   ]
  },
  {
   "cell_type": "code",
   "execution_count": 7,
   "metadata": {},
   "outputs": [
    {
     "data": {
      "text/plain": [
       "[1, 2, 3, 4, 5, 6, 7, 8, 9, 89]"
      ]
     },
     "execution_count": 7,
     "metadata": {},
     "output_type": "execute_result"
    }
   ],
   "source": [
    "def show_disarium():\n",
    "    try:\n",
    "        lst = []\n",
    "        for num in range(1,101):\n",
    "            #logging.info('num : ' +str(num))\n",
    "            count_digit = len(str(num))\n",
    "        \n",
    "            #logging.info('initializing sum...')\n",
    "            sum_ = 0\n",
    "            temp_num = num\n",
    "            while temp_num != 0:\n",
    "                #logging.info('collecting the right most digit from the given input...')\n",
    "                r = temp_num % 10\n",
    "                #logging.info('computing sum...')\n",
    "                sum_ = (int)(sum_ + math.pow(r,count_digit))\n",
    "                count_digit = count_digit - 1\n",
    "                temp_num = temp_num // 10\n",
    "            \n",
    "            if sum_ == num:\n",
    "                #logging.info('sum = ' +str(sum_)+ '= num : Disarium!!')\n",
    "                lst.append(num)\n",
    "            else:\n",
    "                pass\n",
    "            \n",
    "    except Exception as err:\n",
    "        logging.info('An error has occured!!')\n",
    "        logging.error(str(err))\n",
    "    finally:\n",
    "        return lst\n",
    "\n",
    "show_disarium()"
   ]
  },
  {
   "cell_type": "markdown",
   "metadata": {},
   "source": [
    "3. Write a Python program to check if the given number is Happy Number?"
   ]
  },
  {
   "cell_type": "code",
   "execution_count": 8,
   "metadata": {},
   "outputs": [
    {
     "name": "stderr",
     "output_type": "stream",
     "text": [
      "2021-06-02 09:18:20,726 - num1 : 31\n",
      "2021-06-02 09:18:20,728 - num : 31\n",
      "2021-06-02 09:18:20,730 - intializing sum and remainder....\n",
      "2021-06-02 09:18:20,731 - remainder : 1\n",
      "2021-06-02 09:18:20,733 - sum : 1\n",
      "2021-06-02 09:18:20,734 - n : 3\n",
      "2021-06-02 09:18:20,736 - remainder : 3\n",
      "2021-06-02 09:18:20,737 - sum : 10\n",
      "2021-06-02 09:18:20,738 - n : 0\n",
      "2021-06-02 09:18:20,740 - result : 10\n",
      "2021-06-02 09:18:20,741 - num : 10\n",
      "2021-06-02 09:18:20,743 - intializing sum and remainder....\n",
      "2021-06-02 09:18:20,744 - remainder : 0\n",
      "2021-06-02 09:18:20,749 - sum : 0\n",
      "2021-06-02 09:18:20,750 - n : 1\n",
      "2021-06-02 09:18:20,751 - remainder : 1\n",
      "2021-06-02 09:18:20,753 - sum : 1\n",
      "2021-06-02 09:18:20,754 - n : 0\n",
      "2021-06-02 09:18:20,756 - result : 1\n"
     ]
    },
    {
     "name": "stdout",
     "output_type": "stream",
     "text": [
      "31 : Happy Number\n"
     ]
    }
   ],
   "source": [
    "def sum_of_squares_of_digits(num):\n",
    "        try:\n",
    "            logging.info('num : ' +str(num))\n",
    "            logging.info('intializing sum and remainder....')\n",
    "            r = 0\n",
    "            s = 0\n",
    "        \n",
    "            while num > 0:\n",
    "                r = num % 10\n",
    "                logging.info('remainder : ' +str(r))\n",
    "                s = s + (r*r)\n",
    "                logging.info('sum : ' +str(s))\n",
    "                num = num // 10\n",
    "                logging.info('n : '+ str(num))\n",
    "            return s\n",
    "        except Exception as err:\n",
    "            logging.info('an error has occured!!')\n",
    "            logging.error(str(err))\n",
    "            \n",
    "def is_happy_num(num1):\n",
    "        try:\n",
    "            logging.info('num1 : ' +str(num1))\n",
    "            result = num1\n",
    "            while result != 1 and result !=4:\n",
    "                result = sum_of_squares_of_digits(result)\n",
    "                logging.info(\"result : \" + str(result))\n",
    "            #return result\n",
    "            \n",
    "        except Exception as err:\n",
    "            logging.info('an error has occured!!')\n",
    "            logging.error(str(err))\n",
    "            \n",
    "        finally:\n",
    "            if result == 1:\n",
    "                 print('{} : Happy Number'.format(num1))\n",
    "            else:\n",
    "                print('{} : Not a Happy Number'.format(num1))\n",
    "                \n",
    "            \n",
    "is_happy_num(31)\n",
    "            "
   ]
  },
  {
   "cell_type": "markdown",
   "metadata": {},
   "source": [
    "4. Write a Python program to print all happy numbers between 1 and 100?"
   ]
  },
  {
   "cell_type": "code",
   "execution_count": 9,
   "metadata": {},
   "outputs": [
    {
     "data": {
      "text/plain": [
       "[1, 7, 10, 13, 19, 23, 28, 31, 32, 44, 49, 68, 70, 79, 82, 86, 91, 94, 97, 100]"
      ]
     },
     "execution_count": 9,
     "metadata": {},
     "output_type": "execute_result"
    }
   ],
   "source": [
    "def sum_of_squares_of_digits(num):\n",
    "        try:\n",
    "            #logging.info('intializing sum and remainder....')\n",
    "            r = 0\n",
    "            s = 0\n",
    "        \n",
    "            while num > 0:\n",
    "                r = num % 10\n",
    "                s = s + (r*r)\n",
    "                num = num // 10\n",
    "            return s\n",
    "        except Exception as err:\n",
    "            logging.info('an error has occured!!')\n",
    "            logging.error(str(err))\n",
    "            \n",
    "def show_happy_numbers():\n",
    "    try:\n",
    "        lst = []\n",
    "        for i in range(1,101):\n",
    "            result = i \n",
    "            while result != 1 and result !=4:\n",
    "                result = sum_of_squares_of_digits(result)\n",
    "            if result == 1:\n",
    "                lst.append(i)        \n",
    "    except Exception as err:\n",
    "        logging.info('an error has occured!!')\n",
    "        logging.error(str(err))\n",
    "    finally:\n",
    "        return lst\n",
    "    \n",
    "\n",
    "show_happy_numbers()"
   ]
  },
  {
   "cell_type": "markdown",
   "metadata": {},
   "source": [
    "5. Write a Python program to determine whether the given number is a Harshad Number?"
   ]
  },
  {
   "cell_type": "code",
   "execution_count": 10,
   "metadata": {},
   "outputs": [
    {
     "name": "stderr",
     "output_type": "stream",
     "text": [
      "2021-06-02 09:18:38,863 - num : 156\n",
      "2021-06-02 09:18:38,864 - initializing remainder and sum.......\n",
      "2021-06-02 09:18:38,866 - remainder : 6; sum : 6; num : 15\n",
      "2021-06-02 09:18:38,867 - remainder : 5; sum : 11; num : 1\n",
      "2021-06-02 09:18:38,868 - remainder : 1; sum : 12; num : 0\n"
     ]
    },
    {
     "data": {
      "text/plain": [
       "'Harshad Number'"
      ]
     },
     "execution_count": 10,
     "metadata": {},
     "output_type": "execute_result"
    }
   ],
   "source": [
    "def is_harshad_number(num):\n",
    "    try:\n",
    "        logging.info('num : '+ str(num))\n",
    "        logging.info('initializing remainder and sum.......')\n",
    "        rem = sum_ = 0\n",
    "        temp_num = num\n",
    "        while temp_num > 0:\n",
    "            rem = temp_num % 10\n",
    "            sum_ = sum_ + rem\n",
    "            temp_num = temp_num // 10\n",
    "            logging.info('remainder : '+str(rem)+'; sum : '+str(sum_)+ '; num : ' + str(temp_num))\n",
    "    except Exception as err:\n",
    "        logging.info('An error has occured!!')\n",
    "        logging.error(str(err))\n",
    "    finally:\n",
    "        if temp_num % sum_ == 0:\n",
    "            return 'Harshad Number'\n",
    "        else:\n",
    "             'Not a Harshad Number'     \n",
    "                \n",
    "\n",
    "is_harshad_number(156)"
   ]
  },
  {
   "cell_type": "markdown",
   "metadata": {},
   "source": [
    "6. Write a Python program to print all pronic numbers between 1 and 100?"
   ]
  },
  {
   "cell_type": "code",
   "execution_count": 11,
   "metadata": {},
   "outputs": [],
   "source": [
    "def is_Pronic_number(num):\n",
    "    try:\n",
    "        logging.info('num : ' + str(num))\n",
    "        logging.info('initializing a boolean variables......')\n",
    "        flag = False\n",
    "    \n",
    "        for i in range(1,num+1):\n",
    "            if i*(i+1) == num:\n",
    "                flag = True\n",
    "                break\n",
    "        return flag\n",
    "    except Exception as err:\n",
    "        logging.info('An error has occured!!')\n",
    "        logging.error(str(err))\n",
    "        \n",
    "\n",
    "def show_Pronic_numbers():\n",
    "    try:\n",
    "        lst = []\n",
    "        for i in range(1,101):\n",
    "            if is_Pronic_number(i):\n",
    "                lst.append(i)\n",
    "        logging.info('Successfully executed!!')\n",
    "    except Exception as err:\n",
    "        logging.info('An error has occured!!')\n",
    "        logging.info(str(err))\n",
    "    finally:\n",
    "        return lst"
   ]
  },
  {
   "cell_type": "code",
   "execution_count": 12,
   "metadata": {},
   "outputs": [
    {
     "name": "stderr",
     "output_type": "stream",
     "text": [
      "2021-06-02 09:18:43,375 - num : 1\n",
      "2021-06-02 09:18:43,377 - initializing a boolean variables......\n",
      "2021-06-02 09:18:43,378 - num : 2\n",
      "2021-06-02 09:18:43,380 - initializing a boolean variables......\n",
      "2021-06-02 09:18:43,381 - num : 3\n",
      "2021-06-02 09:18:43,383 - initializing a boolean variables......\n",
      "2021-06-02 09:18:43,384 - num : 4\n",
      "2021-06-02 09:18:43,386 - initializing a boolean variables......\n",
      "2021-06-02 09:18:43,387 - num : 5\n",
      "2021-06-02 09:18:43,388 - initializing a boolean variables......\n",
      "2021-06-02 09:18:43,390 - num : 6\n",
      "2021-06-02 09:18:43,391 - initializing a boolean variables......\n",
      "2021-06-02 09:18:43,393 - num : 7\n",
      "2021-06-02 09:18:43,394 - initializing a boolean variables......\n",
      "2021-06-02 09:18:43,395 - num : 8\n",
      "2021-06-02 09:18:43,397 - initializing a boolean variables......\n",
      "2021-06-02 09:18:43,398 - num : 9\n",
      "2021-06-02 09:18:43,400 - initializing a boolean variables......\n",
      "2021-06-02 09:18:43,401 - num : 10\n",
      "2021-06-02 09:18:43,403 - initializing a boolean variables......\n",
      "2021-06-02 09:18:43,404 - num : 11\n",
      "2021-06-02 09:18:43,405 - initializing a boolean variables......\n",
      "2021-06-02 09:18:43,407 - num : 12\n",
      "2021-06-02 09:18:43,408 - initializing a boolean variables......\n",
      "2021-06-02 09:18:43,409 - num : 13\n",
      "2021-06-02 09:18:43,411 - initializing a boolean variables......\n",
      "2021-06-02 09:18:43,412 - num : 14\n",
      "2021-06-02 09:18:43,414 - initializing a boolean variables......\n",
      "2021-06-02 09:18:43,415 - num : 15\n",
      "2021-06-02 09:18:43,416 - initializing a boolean variables......\n",
      "2021-06-02 09:18:43,418 - num : 16\n",
      "2021-06-02 09:18:43,419 - initializing a boolean variables......\n",
      "2021-06-02 09:18:43,421 - num : 17\n",
      "2021-06-02 09:18:43,422 - initializing a boolean variables......\n",
      "2021-06-02 09:18:43,424 - num : 18\n",
      "2021-06-02 09:18:43,425 - initializing a boolean variables......\n",
      "2021-06-02 09:18:43,426 - num : 19\n",
      "2021-06-02 09:18:43,428 - initializing a boolean variables......\n",
      "2021-06-02 09:18:43,429 - num : 20\n",
      "2021-06-02 09:18:43,431 - initializing a boolean variables......\n",
      "2021-06-02 09:18:43,432 - num : 21\n",
      "2021-06-02 09:18:43,433 - initializing a boolean variables......\n",
      "2021-06-02 09:18:43,434 - num : 22\n",
      "2021-06-02 09:18:43,436 - initializing a boolean variables......\n",
      "2021-06-02 09:18:43,437 - num : 23\n",
      "2021-06-02 09:18:43,438 - initializing a boolean variables......\n",
      "2021-06-02 09:18:43,439 - num : 24\n",
      "2021-06-02 09:18:43,440 - initializing a boolean variables......\n",
      "2021-06-02 09:18:43,441 - num : 25\n",
      "2021-06-02 09:18:43,442 - initializing a boolean variables......\n",
      "2021-06-02 09:18:43,444 - num : 26\n",
      "2021-06-02 09:18:43,445 - initializing a boolean variables......\n",
      "2021-06-02 09:18:43,447 - num : 27\n",
      "2021-06-02 09:18:43,449 - initializing a boolean variables......\n",
      "2021-06-02 09:18:43,450 - num : 28\n",
      "2021-06-02 09:18:43,452 - initializing a boolean variables......\n",
      "2021-06-02 09:18:43,453 - num : 29\n",
      "2021-06-02 09:18:43,454 - initializing a boolean variables......\n",
      "2021-06-02 09:18:43,456 - num : 30\n",
      "2021-06-02 09:18:43,457 - initializing a boolean variables......\n",
      "2021-06-02 09:18:43,461 - num : 31\n",
      "2021-06-02 09:18:43,463 - initializing a boolean variables......\n",
      "2021-06-02 09:18:43,464 - num : 32\n",
      "2021-06-02 09:18:43,465 - initializing a boolean variables......\n",
      "2021-06-02 09:18:43,467 - num : 33\n",
      "2021-06-02 09:18:43,468 - initializing a boolean variables......\n",
      "2021-06-02 09:18:43,469 - num : 34\n",
      "2021-06-02 09:18:43,471 - initializing a boolean variables......\n",
      "2021-06-02 09:18:43,472 - num : 35\n",
      "2021-06-02 09:18:43,473 - initializing a boolean variables......\n",
      "2021-06-02 09:18:43,474 - num : 36\n",
      "2021-06-02 09:18:43,476 - initializing a boolean variables......\n",
      "2021-06-02 09:18:43,477 - num : 37\n",
      "2021-06-02 09:18:43,478 - initializing a boolean variables......\n",
      "2021-06-02 09:18:43,479 - num : 38\n",
      "2021-06-02 09:18:43,481 - initializing a boolean variables......\n",
      "2021-06-02 09:18:43,482 - num : 39\n",
      "2021-06-02 09:18:43,483 - initializing a boolean variables......\n",
      "2021-06-02 09:18:43,484 - num : 40\n",
      "2021-06-02 09:18:43,486 - initializing a boolean variables......\n",
      "2021-06-02 09:18:43,487 - num : 41\n",
      "2021-06-02 09:18:43,489 - initializing a boolean variables......\n",
      "2021-06-02 09:18:43,491 - num : 42\n",
      "2021-06-02 09:18:43,493 - initializing a boolean variables......\n",
      "2021-06-02 09:18:43,494 - num : 43\n",
      "2021-06-02 09:18:43,495 - initializing a boolean variables......\n",
      "2021-06-02 09:18:43,496 - num : 44\n",
      "2021-06-02 09:18:43,498 - initializing a boolean variables......\n",
      "2021-06-02 09:18:43,499 - num : 45\n",
      "2021-06-02 09:18:43,500 - initializing a boolean variables......\n",
      "2021-06-02 09:18:43,502 - num : 46\n",
      "2021-06-02 09:18:43,504 - initializing a boolean variables......\n",
      "2021-06-02 09:18:43,505 - num : 47\n",
      "2021-06-02 09:18:43,507 - initializing a boolean variables......\n",
      "2021-06-02 09:18:43,508 - num : 48\n",
      "2021-06-02 09:18:43,510 - initializing a boolean variables......\n",
      "2021-06-02 09:18:43,511 - num : 49\n",
      "2021-06-02 09:18:43,513 - initializing a boolean variables......\n",
      "2021-06-02 09:18:43,514 - num : 50\n",
      "2021-06-02 09:18:43,515 - initializing a boolean variables......\n",
      "2021-06-02 09:18:43,517 - num : 51\n",
      "2021-06-02 09:18:43,519 - initializing a boolean variables......\n",
      "2021-06-02 09:18:43,520 - num : 52\n",
      "2021-06-02 09:18:43,522 - initializing a boolean variables......\n",
      "2021-06-02 09:18:43,523 - num : 53\n",
      "2021-06-02 09:18:43,524 - initializing a boolean variables......\n",
      "2021-06-02 09:18:43,527 - num : 54\n",
      "2021-06-02 09:18:43,528 - initializing a boolean variables......\n",
      "2021-06-02 09:18:43,529 - num : 55\n",
      "2021-06-02 09:18:43,530 - initializing a boolean variables......\n",
      "2021-06-02 09:18:43,532 - num : 56\n",
      "2021-06-02 09:18:43,533 - initializing a boolean variables......\n",
      "2021-06-02 09:18:43,534 - num : 57\n",
      "2021-06-02 09:18:43,540 - initializing a boolean variables......\n",
      "2021-06-02 09:18:43,541 - num : 58\n",
      "2021-06-02 09:18:43,543 - initializing a boolean variables......\n",
      "2021-06-02 09:18:43,545 - num : 59\n",
      "2021-06-02 09:18:43,546 - initializing a boolean variables......\n",
      "2021-06-02 09:18:43,548 - num : 60\n",
      "2021-06-02 09:18:43,549 - initializing a boolean variables......\n",
      "2021-06-02 09:18:43,550 - num : 61\n",
      "2021-06-02 09:18:43,551 - initializing a boolean variables......\n",
      "2021-06-02 09:18:43,552 - num : 62\n",
      "2021-06-02 09:18:43,553 - initializing a boolean variables......\n",
      "2021-06-02 09:18:43,555 - num : 63\n",
      "2021-06-02 09:18:43,557 - initializing a boolean variables......\n",
      "2021-06-02 09:18:43,559 - num : 64\n",
      "2021-06-02 09:18:43,561 - initializing a boolean variables......\n",
      "2021-06-02 09:18:43,563 - num : 65\n",
      "2021-06-02 09:18:43,564 - initializing a boolean variables......\n",
      "2021-06-02 09:18:43,565 - num : 66\n",
      "2021-06-02 09:18:43,566 - initializing a boolean variables......\n",
      "2021-06-02 09:18:43,567 - num : 67\n",
      "2021-06-02 09:18:43,569 - initializing a boolean variables......\n",
      "2021-06-02 09:18:43,570 - num : 68\n",
      "2021-06-02 09:18:43,571 - initializing a boolean variables......\n",
      "2021-06-02 09:18:43,572 - num : 69\n",
      "2021-06-02 09:18:43,574 - initializing a boolean variables......\n",
      "2021-06-02 09:18:43,577 - num : 70\n",
      "2021-06-02 09:18:43,578 - initializing a boolean variables......\n",
      "2021-06-02 09:18:43,580 - num : 71\n",
      "2021-06-02 09:18:43,582 - initializing a boolean variables......\n",
      "2021-06-02 09:18:43,583 - num : 72\n",
      "2021-06-02 09:18:43,584 - initializing a boolean variables......\n",
      "2021-06-02 09:18:43,584 - num : 73\n",
      "2021-06-02 09:18:43,585 - initializing a boolean variables......\n",
      "2021-06-02 09:18:43,587 - num : 74\n",
      "2021-06-02 09:18:43,588 - initializing a boolean variables......\n",
      "2021-06-02 09:18:43,590 - num : 75\n",
      "2021-06-02 09:18:43,592 - initializing a boolean variables......\n",
      "2021-06-02 09:18:43,594 - num : 76\n",
      "2021-06-02 09:18:43,596 - initializing a boolean variables......\n",
      "2021-06-02 09:18:43,597 - num : 77\n",
      "2021-06-02 09:18:43,599 - initializing a boolean variables......\n",
      "2021-06-02 09:18:43,600 - num : 78\n",
      "2021-06-02 09:18:43,601 - initializing a boolean variables......\n",
      "2021-06-02 09:18:43,602 - num : 79\n",
      "2021-06-02 09:18:43,603 - initializing a boolean variables......\n",
      "2021-06-02 09:18:43,605 - num : 80\n",
      "2021-06-02 09:18:43,605 - initializing a boolean variables......\n",
      "2021-06-02 09:18:43,607 - num : 81\n",
      "2021-06-02 09:18:43,610 - initializing a boolean variables......\n",
      "2021-06-02 09:18:43,611 - num : 82\n",
      "2021-06-02 09:18:43,613 - initializing a boolean variables......\n",
      "2021-06-02 09:18:43,615 - num : 83\n"
     ]
    },
    {
     "name": "stderr",
     "output_type": "stream",
     "text": [
      "2021-06-02 09:18:43,616 - initializing a boolean variables......\n",
      "2021-06-02 09:18:43,618 - num : 84\n",
      "2021-06-02 09:18:43,619 - initializing a boolean variables......\n",
      "2021-06-02 09:18:43,620 - num : 85\n",
      "2021-06-02 09:18:43,622 - initializing a boolean variables......\n",
      "2021-06-02 09:18:43,623 - num : 86\n",
      "2021-06-02 09:18:43,625 - initializing a boolean variables......\n",
      "2021-06-02 09:18:43,627 - num : 87\n",
      "2021-06-02 09:18:43,629 - initializing a boolean variables......\n",
      "2021-06-02 09:18:43,631 - num : 88\n",
      "2021-06-02 09:18:43,632 - initializing a boolean variables......\n",
      "2021-06-02 09:18:43,634 - num : 89\n",
      "2021-06-02 09:18:43,635 - initializing a boolean variables......\n",
      "2021-06-02 09:18:43,636 - num : 90\n",
      "2021-06-02 09:18:43,637 - initializing a boolean variables......\n",
      "2021-06-02 09:18:43,638 - num : 91\n",
      "2021-06-02 09:18:43,639 - initializing a boolean variables......\n",
      "2021-06-02 09:18:43,640 - num : 92\n",
      "2021-06-02 09:18:43,641 - initializing a boolean variables......\n",
      "2021-06-02 09:18:43,643 - num : 93\n",
      "2021-06-02 09:18:43,644 - initializing a boolean variables......\n",
      "2021-06-02 09:18:43,645 - num : 94\n",
      "2021-06-02 09:18:43,646 - initializing a boolean variables......\n",
      "2021-06-02 09:18:43,648 - num : 95\n",
      "2021-06-02 09:18:43,649 - initializing a boolean variables......\n",
      "2021-06-02 09:18:43,651 - num : 96\n",
      "2021-06-02 09:18:43,652 - initializing a boolean variables......\n",
      "2021-06-02 09:18:43,654 - num : 97\n",
      "2021-06-02 09:18:43,656 - initializing a boolean variables......\n",
      "2021-06-02 09:18:43,657 - num : 98\n",
      "2021-06-02 09:18:43,659 - initializing a boolean variables......\n",
      "2021-06-02 09:18:43,660 - num : 99\n",
      "2021-06-02 09:18:43,662 - initializing a boolean variables......\n",
      "2021-06-02 09:18:43,663 - num : 100\n",
      "2021-06-02 09:18:43,664 - initializing a boolean variables......\n",
      "2021-06-02 09:18:43,665 - Successfully executed!!\n"
     ]
    },
    {
     "data": {
      "text/plain": [
       "[2, 6, 12, 20, 30, 42, 56, 72, 90]"
      ]
     },
     "execution_count": 12,
     "metadata": {},
     "output_type": "execute_result"
    }
   ],
   "source": [
    "show_Pronic_numbers()"
   ]
  }
 ],
 "metadata": {
  "kernelspec": {
   "display_name": "Python 3",
   "language": "python",
   "name": "python3"
  },
  "language_info": {
   "codemirror_mode": {
    "name": "ipython",
    "version": 3
   },
   "file_extension": ".py",
   "mimetype": "text/x-python",
   "name": "python",
   "nbconvert_exporter": "python",
   "pygments_lexer": "ipython3",
   "version": "3.8.5"
  }
 },
 "nbformat": 4,
 "nbformat_minor": 4
}

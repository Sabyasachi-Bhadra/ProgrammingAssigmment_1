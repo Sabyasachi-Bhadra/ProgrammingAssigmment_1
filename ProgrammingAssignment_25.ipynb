{
 "cells": [
  {
   "cell_type": "markdown",
   "id": "cfd49f9c",
   "metadata": {},
   "source": [
    "- Question1\n",
    " - Create a function that takes three integer arguments (a, b, c) and returns the amount of integers which are of equal value."
   ]
  },
  {
   "cell_type": "code",
   "execution_count": 1,
   "id": "9d0716c2",
   "metadata": {},
   "outputs": [],
   "source": [
    "def equal(a,b,c):\n",
    "    try:\n",
    "        if a == b and a == c:\n",
    "            return 3\n",
    "        elif a == b or b == c:\n",
    "            return 2\n",
    "        else:\n",
    "            return 0\n",
    "    except Exception as err:\n",
    "        print(\"an error occured!!\")\n",
    "        print(str(err))    "
   ]
  },
  {
   "cell_type": "code",
   "execution_count": 2,
   "id": "fc8557bf",
   "metadata": {},
   "outputs": [
    {
     "data": {
      "text/plain": [
       "0"
      ]
     },
     "execution_count": 2,
     "metadata": {},
     "output_type": "execute_result"
    }
   ],
   "source": [
    "equal(1,2,3)"
   ]
  },
  {
   "cell_type": "code",
   "execution_count": 3,
   "id": "ffff383f",
   "metadata": {},
   "outputs": [
    {
     "data": {
      "text/plain": [
       "3"
      ]
     },
     "execution_count": 3,
     "metadata": {},
     "output_type": "execute_result"
    }
   ],
   "source": [
    "equal(1,1,1)"
   ]
  },
  {
   "cell_type": "markdown",
   "id": "5cdd24fe",
   "metadata": {},
   "source": [
    "- Question2\n",
    " - Write a function that converts a dictionary into a list of keys-values tuples."
   ]
  },
  {
   "cell_type": "code",
   "execution_count": 13,
   "id": "7ba59aaa",
   "metadata": {},
   "outputs": [],
   "source": [
    "def dict_to_list(dic):\n",
    "    try:\n",
    "        dic_items = dic.items()\n",
    "        return sorted(list(dic_items))\n",
    "    except Exception as err:\n",
    "        print(str(err))    "
   ]
  },
  {
   "cell_type": "code",
   "execution_count": 17,
   "id": "f441f18a",
   "metadata": {},
   "outputs": [
    {
     "data": {
      "text/plain": [
       "[('Brand', 20), ('Cooper', 18), ('Ken', 14)]"
      ]
     },
     "execution_count": 17,
     "metadata": {},
     "output_type": "execute_result"
    }
   ],
   "source": [
    "dict_to_list({\"Ken\" : 14, \"Cooper\" : 18, \"Brand\" : 20})"
   ]
  },
  {
   "cell_type": "markdown",
   "id": "a1677c81",
   "metadata": {},
   "source": [
    "- Question3\n",
    " - Write a function that creates a dictionary with each (key, value) pair being the (lower case, upper case) versions of a letter, respectively."
   ]
  },
  {
   "cell_type": "code",
   "execution_count": 20,
   "id": "275c1bf7",
   "metadata": {},
   "outputs": [],
   "source": [
    "def mapping(ls):\n",
    "    try:\n",
    "        dic = {}\n",
    "        for key in ls:\n",
    "            dic[key] = key.upper()\n",
    "        return dic\n",
    "    except Exception as err:\n",
    "        print(str(err))"
   ]
  },
  {
   "cell_type": "code",
   "execution_count": 23,
   "id": "61e492dd",
   "metadata": {},
   "outputs": [
    {
     "data": {
      "text/plain": [
       "{'a': 'A', 'b': 'B', 'c': 'C'}"
      ]
     },
     "execution_count": 23,
     "metadata": {},
     "output_type": "execute_result"
    }
   ],
   "source": [
    "mapping(['a','b','c'])"
   ]
  },
  {
   "cell_type": "markdown",
   "id": "00a8ac4f",
   "metadata": {},
   "source": [
    "- Question4\n",
    " - Write a function, that replaces all vowels in a string with a specified vowel."
   ]
  },
  {
   "cell_type": "code",
   "execution_count": 22,
   "id": "f7439e78",
   "metadata": {},
   "outputs": [],
   "source": [
    "def vow_replace(str_, chr_):\n",
    "    try:\n",
    "        vowels = 'aeiou'\n",
    "        for letter in vowels:\n",
    "            str_ = str_.replace(letter,chr_)\n",
    "        return str_\n",
    "    except Exception as err:\n",
    "        print(str(err))"
   ]
  },
  {
   "cell_type": "code",
   "execution_count": 23,
   "id": "e2f89da6",
   "metadata": {},
   "outputs": [
    {
     "data": {
      "text/plain": [
       "'steffed jelepene peppers'"
      ]
     },
     "execution_count": 23,
     "metadata": {},
     "output_type": "execute_result"
    }
   ],
   "source": [
    "vow_replace(\"stuffed jalapeno poppers\", \"e\")"
   ]
  },
  {
   "cell_type": "markdown",
   "id": "6ba6ed26",
   "metadata": {},
   "source": [
    "- Question5\n",
    " - Create a function that takes a string as input and capitalizes a letter if its ASCII code is even and returns its lower case version if its ASCII code is odd."
   ]
  },
  {
   "cell_type": "code",
   "execution_count": 31,
   "id": "426c5f47",
   "metadata": {},
   "outputs": [],
   "source": [
    "def ascii_capitalize(str_):\n",
    "    try:\n",
    "        for letter in str_:\n",
    "            if ord(letter) % 2 == 0:\n",
    "                str_ = str_.replace(letter, letter.upper())\n",
    "            elif ord(letter) % 2 != 0:\n",
    "                str_ = str_.replace(letter, letter.lower())\n",
    "            else:\n",
    "                pass\n",
    "        return str_\n",
    "    except Exception as err:\n",
    "        print(str(err))"
   ]
  },
  {
   "cell_type": "code",
   "execution_count": 34,
   "id": "cf5c6b8b",
   "metadata": {},
   "outputs": [
    {
     "data": {
      "text/plain": [
       "'oH wHaT a BeauTiFuL moRNiNg'"
      ]
     },
     "execution_count": 34,
     "metadata": {},
     "output_type": "execute_result"
    }
   ],
   "source": [
    "ascii_capitalize(\"Oh what a beautiful morning\")"
   ]
  }
 ],
 "metadata": {
  "kernelspec": {
   "display_name": "Python 3",
   "language": "python",
   "name": "python3"
  },
  "language_info": {
   "codemirror_mode": {
    "name": "ipython",
    "version": 3
   },
   "file_extension": ".py",
   "mimetype": "text/x-python",
   "name": "python",
   "nbconvert_exporter": "python",
   "pygments_lexer": "ipython3",
   "version": "3.8.8"
  }
 },
 "nbformat": 4,
 "nbformat_minor": 5
}

{
 "cells": [
  {
   "cell_type": "markdown",
   "metadata": {},
   "source": [
    "1. Write a Python Program to Display Fibonacci Sequence Using Recursion?"
   ]
  },
  {
   "cell_type": "code",
   "execution_count": 8,
   "metadata": {},
   "outputs": [
    {
     "name": "stdout",
     "output_type": "stream",
     "text": [
      "Enter the nth term : 10\n",
      "Fibonacci Series upto 10 consecutive term is \n",
      "1 : 1\n",
      "2 : 1\n",
      "3 : 2\n",
      "4 : 3\n",
      "5 : 5\n",
      "6 : 8\n",
      "7 : 13\n",
      "8 : 21\n",
      "9 : 34\n",
      "10 : 55\n"
     ]
    }
   ],
   "source": [
    "def fib_seq(n):\n",
    "    \"\"\" This is a recursive function to find\n",
    "    the Fibonacci Sequence in a given (n) range.\"\"\"\n",
    "    # First check the given range is a positive integer\n",
    "    if type(n) != int:\n",
    "        raise TypeError(\"n must be a positive integer.\")\n",
    "    if n < 1:\n",
    "        raise ValueError(\"n must be a positive integer\")\n",
    "       \n",
    "    # Here we compute the n th tern\n",
    "    if n == 1:\n",
    "        return 1\n",
    "    elif n == 2:\n",
    "        return 1\n",
    "    else:\n",
    "        return fib_seq(n-1) + fib_seq(n-2)\n",
    "\n",
    "# fibonacci Sequence :\n",
    "user_input = int(input(\"Enter the nth term : \"))\n",
    "\n",
    "print(\"Fibonacci Series upto {} consecutive term is \".format(user_input))\n",
    "\n",
    "for i in range(1,user_input+1):\n",
    "    print(i,\":\",fib_seq(i))            "
   ]
  },
  {
   "cell_type": "markdown",
   "metadata": {},
   "source": [
    "2. Write a Python Program to Find Factorial of Number Using Recursion?"
   ]
  },
  {
   "cell_type": "code",
   "execution_count": 15,
   "metadata": {},
   "outputs": [
    {
     "name": "stdout",
     "output_type": "stream",
     "text": [
      "Enter a value of n : 10\n",
      "The factorial of the given number 10 is 3628800\n"
     ]
    }
   ],
   "source": [
    "def recur_fac(n):\n",
    "    \"\"\"This is an recursive function to find\n",
    "    the factorial of a given number n.\"\"\"\n",
    "    \n",
    "    # First check the given value n is a non-negative integer\n",
    "    if type(n) != int:\n",
    "        raise TypeError(\"n must be the non-negative integer.\")\n",
    "    if n < 0:\n",
    "        raise ValueError(\"n must be the non-negative integer.\")\n",
    "    # Compute the factorial\n",
    "    if n == 0 or n == 1:\n",
    "        return 1\n",
    "    else:\n",
    "        return n*recur_fac(n-1)\n",
    "\n",
    "user_input = int(input(\"Enter a value of n : \"))    \n",
    "\n",
    "output = recur_fac(user_input)\n",
    "print(\"The factorial of the given number {0} is {1}\".format(user_input,output))"
   ]
  },
  {
   "cell_type": "markdown",
   "metadata": {},
   "source": [
    "3. Write a Python Program to calculate your Body Mass Index?"
   ]
  },
  {
   "cell_type": "code",
   "execution_count": 37,
   "metadata": {},
   "outputs": [
    {
     "name": "stdout",
     "output_type": "stream",
     "text": [
      "Your BMI is 21.645324020961805.\n"
     ]
    }
   ],
   "source": [
    "def BMI(weight, height_ft):\n",
    "    \"\"\"This is a basic function to calculate\n",
    "    body mass index(BMI) of a person.\"\"\"\n",
    "    \n",
    "    # first check the type of the given weight and height\n",
    "    if type(weight) != float:\n",
    "        raise TypeError(\"weight must be in the form of float value.\")\n",
    "    if type(height_ft) != float:\n",
    "        raise TypeError(\"height must be in the form of float value.\")\n",
    "    if weight < 0 or height_ft < 0:\n",
    "        raise ValueError(\"must have to be a non-negative value.\")\n",
    "    \n",
    "    # convert the height into meters (1 ft = 0.3048 m)\n",
    "    height_m = height_ft * 0.3048 \n",
    "    \n",
    "    # calculate the BMI \n",
    "    bmi = weight / (height_m **2)\n",
    "    return bmi\n",
    "\n",
    "bmi = BMI(70.0,5.9)\n",
    "print(\"Your BMI is {}.\".format(bmi))"
   ]
  },
  {
   "cell_type": "markdown",
   "metadata": {},
   "source": [
    "4. Write a Python Program to calculate the natural logarithm of any number?"
   ]
  },
  {
   "cell_type": "code",
   "execution_count": 54,
   "metadata": {},
   "outputs": [
    {
     "name": "stdout",
     "output_type": "stream",
     "text": [
      "Natural logarithm of 10 is :  2.302585092994046\n"
     ]
    }
   ],
   "source": [
    "from math import log\n",
    "print(\"Natural logarithm of 10 is : \" , log(10))"
   ]
  },
  {
   "cell_type": "markdown",
   "metadata": {},
   "source": [
    "5. Write a Python Program for cube sum of first n natural numbers?"
   ]
  },
  {
   "cell_type": "code",
   "execution_count": 67,
   "metadata": {},
   "outputs": [
    {
     "name": "stdout",
     "output_type": "stream",
     "text": [
      "The cube sum of the series is :  225\n"
     ]
    }
   ],
   "source": [
    "def cubeSum(n):\n",
    "    \"\"\"This is a simple function to\n",
    "    calculate the cube sum of n natural numbers.\"\"\"\n",
    "    \n",
    "    # First check the given number n\n",
    "    if type(n) != int:\n",
    "        raise TypeError(\"n must be a integer.\")\n",
    "    sum = 0\n",
    "    if n < 0:\n",
    "        for i in range(n,1):\n",
    "            sum = sum + i**3\n",
    "        \n",
    "        return sum\n",
    "    else:\n",
    "        for i in range(1, n+1):\n",
    "            sum = sum + i**3\n",
    "            \n",
    "        return sum\n",
    "\n",
    "sum = cubeSum(5)\n",
    "print(\"The cube sum of the series is : \", sum)"
   ]
  }
 ],
 "metadata": {
  "kernelspec": {
   "display_name": "Python 3",
   "language": "python",
   "name": "python3"
  },
  "language_info": {
   "codemirror_mode": {
    "name": "ipython",
    "version": 3
   },
   "file_extension": ".py",
   "mimetype": "text/x-python",
   "name": "python",
   "nbconvert_exporter": "python",
   "pygments_lexer": "ipython3",
   "version": "3.8.5"
  }
 },
 "nbformat": 4,
 "nbformat_minor": 4
}

{
 "cells": [
  {
   "cell_type": "code",
   "execution_count": 1,
   "metadata": {},
   "outputs": [],
   "source": [
    "import os\n",
    "import logging\n",
    "if os.path.exists('file.log'):\n",
    "    os.remove('file.log')"
   ]
  },
  {
   "cell_type": "code",
   "execution_count": 2,
   "metadata": {},
   "outputs": [],
   "source": [
    "logging.basicConfig(filename = 'file.log', level = logging.INFO, format = '%(asctime)s - %(message)s')"
   ]
  },
  {
   "cell_type": "code",
   "execution_count": 3,
   "metadata": {},
   "outputs": [
    {
     "name": "stderr",
     "output_type": "stream",
     "text": [
      "2021-06-28 21:18:30,819 - logging has started!!\n"
     ]
    }
   ],
   "source": [
    "console_log = logging.StreamHandler()\n",
    "console_log.setLevel(logging.DEBUG)\n",
    "format = logging.Formatter('%(asctime)s - %(message)s')\n",
    "console_log.setFormatter(format)\n",
    "logging.getLogger('').addHandler(console_log)\n",
    "logging.info('logging has started!!')"
   ]
  },
  {
   "cell_type": "markdown",
   "metadata": {},
   "source": [
    "- Question 1:\n",
    "- Define a class with a generator which can iterate the numbers, which are divisible by 7, between a given range 0 and n."
   ]
  },
  {
   "cell_type": "code",
   "execution_count": 4,
   "metadata": {},
   "outputs": [],
   "source": [
    "class test:\n",
    "    '''simple docstring for the class test'''\n",
    "    def __init__(self, range_):\n",
    "        logging.info(range_)\n",
    "        self.range_ = range_\n",
    "        \n",
    "    def divisible_by_seven(self):\n",
    "        try:\n",
    "            for num in range(0,self.range_):\n",
    "                if num % 7 == 0:\n",
    "                    yield num\n",
    "        except Exception as err:\n",
    "            logging.info('an error has occured!!')\n",
    "            logging.error(str(err))\n",
    "    "
   ]
  },
  {
   "cell_type": "code",
   "execution_count": 5,
   "metadata": {},
   "outputs": [
    {
     "name": "stderr",
     "output_type": "stream",
     "text": [
      "2021-06-28 21:18:31,314 - 100\n"
     ]
    }
   ],
   "source": [
    "t = test(100)"
   ]
  },
  {
   "cell_type": "code",
   "execution_count": 6,
   "metadata": {},
   "outputs": [
    {
     "name": "stdout",
     "output_type": "stream",
     "text": [
      "0\n",
      "7\n",
      "14\n",
      "21\n",
      "28\n",
      "35\n",
      "42\n",
      "49\n",
      "56\n",
      "63\n",
      "70\n",
      "77\n",
      "84\n",
      "91\n",
      "98\n"
     ]
    }
   ],
   "source": [
    "for i in t.divisible_by_seven():\n",
    "    print(i)"
   ]
  },
  {
   "cell_type": "markdown",
   "metadata": {},
   "source": [
    "- Question 2:\n",
    "- Write a program to compute the frequency of the words from the input. The output should output after sorting the key alphanumerically."
   ]
  },
  {
   "cell_type": "code",
   "execution_count": 7,
   "metadata": {},
   "outputs": [],
   "source": [
    "def count_frequency_of_words_from_(line):\n",
    "    logging.info(line)\n",
    "    freq_dict = {}\n",
    "    try:\n",
    "        for word in line.split():\n",
    "            freq_dict[word] = freq_dict.get(word,0) + 1\n",
    "            \n",
    "        word_ = freq_dict.keys()\n",
    "        \n",
    "        for i in sorted(word_):\n",
    "            print(\"%s : %d\"%(i,freq_dict[i]))\n",
    "    except Exception as err:\n",
    "        logging.info('an error has occured!!')\n",
    "        logging.error(str(err))        "
   ]
  },
  {
   "cell_type": "code",
   "execution_count": 8,
   "metadata": {
    "scrolled": true
   },
   "outputs": [
    {
     "name": "stderr",
     "output_type": "stream",
     "text": [
      "2021-06-28 21:18:31,992 - New to Python or choosing between Python 2 and Python 3? Read Python 2 or Python 3.\n"
     ]
    },
    {
     "name": "stdout",
     "output_type": "stream",
     "text": [
      "2 : 2\n",
      "3. : 1\n",
      "3? : 1\n",
      "New : 1\n",
      "Python : 5\n",
      "Read : 1\n",
      "and : 1\n",
      "between : 1\n",
      "choosing : 1\n",
      "or : 2\n",
      "to : 1\n"
     ]
    }
   ],
   "source": [
    "line = 'New to Python or choosing between Python 2 and Python 3? Read Python 2 or Python 3.'\n",
    "count_frequency_of_words_from_(line)"
   ]
  },
  {
   "cell_type": "markdown",
   "metadata": {},
   "source": [
    "- Question 3:\n",
    "- Define a class Person and its two child classes: Male and Female. All classes have a method &quot;getGender&quot; which can print &quot;Male&quot; for Male class and &quot;Female&quot; for Female class."
   ]
  },
  {
   "cell_type": "code",
   "execution_count": 9,
   "metadata": {},
   "outputs": [],
   "source": [
    "class Person:\n",
    "    def getGender(self):\n",
    "        print('none')\n",
    "    \n",
    "class Male(Person):\n",
    "    def getGender(self):\n",
    "        print('Male')\n",
    "\n",
    "class Female(Person):\n",
    "    def getGender(self):\n",
    "        print('Female')\n"
   ]
  },
  {
   "cell_type": "code",
   "execution_count": 10,
   "metadata": {},
   "outputs": [],
   "source": [
    "sheldon = Male()\n",
    "missy = Female()"
   ]
  },
  {
   "cell_type": "code",
   "execution_count": 11,
   "metadata": {},
   "outputs": [
    {
     "name": "stdout",
     "output_type": "stream",
     "text": [
      "Male\n"
     ]
    }
   ],
   "source": [
    "sheldon.getGender()"
   ]
  },
  {
   "cell_type": "code",
   "execution_count": 12,
   "metadata": {},
   "outputs": [
    {
     "name": "stdout",
     "output_type": "stream",
     "text": [
      "Female\n"
     ]
    }
   ],
   "source": [
    "missy.getGender()"
   ]
  },
  {
   "cell_type": "markdown",
   "metadata": {},
   "source": [
    "- Question 4:\n",
    "- Please write a program to generate all sentences where subject is in [\"I\", \"You\"] and verb is in [\"Play\",\"Love\"] and the object is in [\"Hockey\",\"Football\"]."
   ]
  },
  {
   "cell_type": "code",
   "execution_count": 13,
   "metadata": {},
   "outputs": [
    {
     "name": "stdout",
     "output_type": "stream",
     "text": [
      "I Play Hockey.\n",
      "I Play Football.\n",
      "I Love Hockey.\n",
      "I Love Football.\n",
      "You Play Hockey.\n",
      "You Play Football.\n",
      "You Love Hockey.\n",
      "You Love Football.\n"
     ]
    }
   ],
   "source": [
    "sbj = ['I', 'You']\n",
    "vrb = ['Play', 'Love']\n",
    "obj = ['Hockey', 'Football']\n",
    "\n",
    "try:\n",
    "    for i in range(len(sbj)):\n",
    "        for j in range(len(vrb)):\n",
    "            for k in range(len(obj)):\n",
    "                sen_ = '%s %s %s.'%(sbj[i],vrb[j],obj[k])\n",
    "                print(sen_)\n",
    "except Exception as err:\n",
    "    logging.info('an error has occured!!')\n",
    "    logging.error(str(err))\n"
   ]
  },
  {
   "cell_type": "markdown",
   "metadata": {},
   "source": [
    "- Question 5:\n",
    "- Please write a program to compress and decompress the string \"hello world!hello world!hello world!hello world!\"."
   ]
  },
  {
   "cell_type": "code",
   "execution_count": 14,
   "metadata": {},
   "outputs": [],
   "source": [
    "import zlib\n",
    "def compress_a_(str_):\n",
    "    logging.info(str_)\n",
    "    try:\n",
    "        cmprs = zlib.compress(str_)\n",
    "    except Exception as err:\n",
    "        logging.info('an error has occured!!')\n",
    "        logging.error(str(err))\n",
    "    return cmprs\n",
    "\n",
    "def decompress_a_str(cmprs_str):\n",
    "    logging.info(cmprs_str)\n",
    "    try:\n",
    "        decmprs = zlib.decompress(cmprs_str)\n",
    "    except Exception as err:\n",
    "        logging.info('an error has occured!!')\n",
    "        logging.error(str(err))\n",
    "    return decmprs"
   ]
  },
  {
   "cell_type": "code",
   "execution_count": 15,
   "metadata": {},
   "outputs": [
    {
     "name": "stderr",
     "output_type": "stream",
     "text": [
      "2021-06-28 21:18:37,015 - b'hello world!hello world!hello world!hello world!'\n"
     ]
    },
    {
     "data": {
      "text/plain": [
       "b'x\\x9c\\xcbH\\xcd\\xc9\\xc9W(\\xcf/\\xcaIQ\\xcc \\x82\\r\\x00\\xbd[\\x11\\xf5'"
      ]
     },
     "execution_count": 15,
     "metadata": {},
     "output_type": "execute_result"
    }
   ],
   "source": [
    "t = compress_a_(b\"hello world!hello world!hello world!hello world!\")\n",
    "t"
   ]
  },
  {
   "cell_type": "code",
   "execution_count": 16,
   "metadata": {},
   "outputs": [
    {
     "name": "stderr",
     "output_type": "stream",
     "text": [
      "2021-06-28 21:18:37,647 - b'x\\x9c\\xcbH\\xcd\\xc9\\xc9W(\\xcf/\\xcaIQ\\xcc \\x82\\r\\x00\\xbd[\\x11\\xf5'\n"
     ]
    },
    {
     "data": {
      "text/plain": [
       "b'hello world!hello world!hello world!hello world!'"
      ]
     },
     "execution_count": 16,
     "metadata": {},
     "output_type": "execute_result"
    }
   ],
   "source": [
    "decompress_a_str(t)"
   ]
  },
  {
   "cell_type": "markdown",
   "metadata": {},
   "source": [
    "- Question 6:\n",
    "- Please write a binary search function which searches an item in a sorted list. The function should return the index of element to be searched in the list."
   ]
  },
  {
   "cell_type": "code",
   "execution_count": 17,
   "metadata": {},
   "outputs": [
    {
     "name": "stderr",
     "output_type": "stream",
     "text": [
      "2021-06-28 21:18:38,901 - [1, 2, 2, 3, 3, 4, 4, 4, 5]\n",
      "2021-06-28 21:18:38,903 - 2\n"
     ]
    },
    {
     "data": {
      "text/plain": [
       "1"
      ]
     },
     "execution_count": 17,
     "metadata": {},
     "output_type": "execute_result"
    }
   ],
   "source": [
    "from bisect import bisect_left\n",
    "def binary_search(lst, item):\n",
    "    logging.info(lst)\n",
    "    logging.info(str(item))\n",
    "    \n",
    "    i = bisect_left(lst, item)\n",
    "    try:\n",
    "        if i != len(lst) and lst[i] == item:\n",
    "            return i\n",
    "        else:\n",
    "            return -1\n",
    "    except Exception as err:\n",
    "        logging.info('an error has occured!!')\n",
    "        logging.error(str(err))\n",
    "\n",
    "lst_ = [1,2,2,3,3,4,4,4,5]\n",
    "item_ = 2\n",
    "binary_search(lst_,item_)"
   ]
  },
  {
   "cell_type": "code",
   "execution_count": null,
   "metadata": {},
   "outputs": [],
   "source": []
  }
 ],
 "metadata": {
  "kernelspec": {
   "display_name": "Python 3",
   "language": "python",
   "name": "python3"
  },
  "language_info": {
   "codemirror_mode": {
    "name": "ipython",
    "version": 3
   },
   "file_extension": ".py",
   "mimetype": "text/x-python",
   "name": "python",
   "nbconvert_exporter": "python",
   "pygments_lexer": "ipython3",
   "version": "3.8.5"
  }
 },
 "nbformat": 4,
 "nbformat_minor": 4
}

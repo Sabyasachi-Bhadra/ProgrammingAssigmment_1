{
 "cells": [
  {
   "cell_type": "markdown",
   "metadata": {},
   "source": [
    "1. Write a Python Program to Find LCM?"
   ]
  },
  {
   "cell_type": "code",
   "execution_count": 4,
   "metadata": {},
   "outputs": [
    {
     "name": "stdout",
     "output_type": "stream",
     "text": [
      "Enter the first number : 6\n",
      "Enter the second number : 7\n",
      "The lcm of the given two numbers 6 and 7 is 42\n"
     ]
    }
   ],
   "source": [
    "user_input1 = int(input(\"Enter the first number : \"))\n",
    "user_input2 = int(input(\"Enter the second number : \"))\n",
    "\n",
    "if user_input1 > user_input2:\n",
    "    bigger = user_input1\n",
    "else:\n",
    "    bigger = user_input2\n",
    "\n",
    "while(True):\n",
    "    if (bigger % user_input1 == 0 and bigger % user_input2 == 0):\n",
    "        lcm = bigger\n",
    "        break\n",
    "    bigger = bigger + 1\n",
    "print(\"The lcm of the given two numbers {0} and {1} is {2}\".format(user_input1, user_input2, lcm))        "
   ]
  },
  {
   "cell_type": "markdown",
   "metadata": {},
   "source": [
    "2. Write a Python Program to Find HCF?"
   ]
  },
  {
   "cell_type": "code",
   "execution_count": 7,
   "metadata": {},
   "outputs": [
    {
     "name": "stdout",
     "output_type": "stream",
     "text": [
      "Enter the first number : 8\n",
      "Enter the second number : 12\n",
      "The hcf of the given numbers 8 and 12 is 4.\n"
     ]
    }
   ],
   "source": [
    "user_input1 = int(input(\"Enter the first number : \"))\n",
    "user_input2 = int(input(\"Enter the second number : \"))\n",
    "\n",
    "if user_input1 > user_input2:\n",
    "    smaller = user_input2\n",
    "else:\n",
    "    smaller = user_input2\n",
    "\n",
    "for i in range(1,smaller+1):\n",
    "    if(user_input1 % i == 0 and user_input2 % i == 0):\n",
    "        hcf = i\n",
    "print(\"The hcf of the given numbers {0} and {1} is {2}.\".format(user_input1,user_input2,hcf))        "
   ]
  },
  {
   "cell_type": "markdown",
   "metadata": {},
   "source": [
    "3. Write a Python Program to Convert Decimal to Binary, Octal and Hexadecimal?"
   ]
  },
  {
   "cell_type": "code",
   "execution_count": 9,
   "metadata": {},
   "outputs": [
    {
     "name": "stdout",
     "output_type": "stream",
     "text": [
      "Enter a decimal number : 124\n",
      "The binary output of the given decimal number is :  0b1111100\n",
      "The octal output of the given decimal number is :  0o174\n",
      "The hexadecimal output of the given decimal number is :  0x7c\n"
     ]
    }
   ],
   "source": [
    "user_input = int(input(\"Enter a decimal number : \"))\n",
    "\n",
    "print(\"The binary output of the given decimal number is : \", bin(user_input))\n",
    "print(\"The octal output of the given decimal number is : \", oct(user_input))\n",
    "print(\"The hexadecimal output of the given decimal number is : \", hex(user_input))"
   ]
  },
  {
   "cell_type": "markdown",
   "metadata": {},
   "source": [
    "4. Write a Python Program To Find ASCII value of a character?"
   ]
  },
  {
   "cell_type": "code",
   "execution_count": 12,
   "metadata": {},
   "outputs": [
    {
     "name": "stdout",
     "output_type": "stream",
     "text": [
      "Enter a character : r\n",
      "The ASCII value of the given character r is 114\n"
     ]
    }
   ],
   "source": [
    "user_input = input(\"Enter a character : \")\n",
    "\n",
    "# print the ASCII value of the given character in the console screen\n",
    "print(\"The ASCII value of the given character {0} is {1}\".format(user_input, ord(user_input)))"
   ]
  },
  {
   "cell_type": "code",
   "execution_count": 18,
   "metadata": {},
   "outputs": [
    {
     "name": "stdout",
     "output_type": "stream",
     "text": [
      "Enter a string : Ken Miles\n",
      "K --> 75\n",
      "e --> 101\n",
      "n --> 110\n",
      "  --> 32\n",
      "M --> 77\n",
      "i --> 105\n",
      "l --> 108\n",
      "e --> 101\n",
      "s --> 115\n"
     ]
    }
   ],
   "source": [
    "# For any given string\n",
    "user_input = input(\"Enter a string : \")\n",
    "\n",
    "for i in user_input:\n",
    "    ascii_value = ord(i)\n",
    "    print(i,\"-->\", ascii_value)"
   ]
  },
  {
   "cell_type": "markdown",
   "metadata": {},
   "source": [
    "5. Write a Python Program to Make a Simple Calculator with 4 basic mathematical operations?"
   ]
  },
  {
   "cell_type": "code",
   "execution_count": 26,
   "metadata": {},
   "outputs": [
    {
     "name": "stdout",
     "output_type": "stream",
     "text": [
      "Please choose an basic operation\n",
      " 1. Addition\n",
      " 2. Subtraction\n",
      " 3. Multiplication\n",
      " 4. Division\n",
      "\n",
      "Please choose an operation from 1,2, 3,4 : 1\n",
      "Enter the first number : 4\n",
      "Enter the second number : 5\n",
      "invalid input\n"
     ]
    }
   ],
   "source": [
    "# First select an basic operation\n",
    "print(\"Please choose an basic operation\\n\",\n",
    "     \"1. Addition\\n\",\n",
    "     \"2. Subtraction\\n\",\n",
    "     \"3. Multiplication\\n\",\n",
    "     \"4. Division\\n\")\n",
    "choose = int(input(\"Please choose an operation from 1,2, 3,4 : \")\n",
    "\n",
    "# Enter the user_input\n",
    "user_input1 = float(input(\"Enter the first number : \"))\n",
    "user_input2 = float(input(\"Enter the second number : \"))\n",
    "\n",
    "if choose == 1:\n",
    "    addition = user_input1 + user_input2\n",
    "    print(user_input1, \"+\", user_input2, \" = \", addition)\n",
    "elif choose == 2:\n",
    "    subtraction = user_input1 - user_input2\n",
    "    print(user_input1, \"-\", user_input2, \" = \", subtraction)\n",
    "elif choose == 3:\n",
    "    multiplication = user_input1 * user_input2\n",
    "    print(user_input1, \"*\", user_input2, \" = \", multiplication)\n",
    "elif choose == 4:\n",
    "    division = user_input1 / user_input2\n",
    "    print(user_input1, \"/\", user_input2, \" = \", division)\n",
    "else:\n",
    "    print(\"invalid input\")"
   ]
  },
  {
   "cell_type": "code",
   "execution_count": null,
   "metadata": {},
   "outputs": [],
   "source": []
  }
 ],
 "metadata": {
  "kernelspec": {
   "display_name": "Python 3",
   "language": "python",
   "name": "python3"
  },
  "language_info": {
   "codemirror_mode": {
    "name": "ipython",
    "version": 3
   },
   "file_extension": ".py",
   "mimetype": "text/x-python",
   "name": "python",
   "nbconvert_exporter": "python",
   "pygments_lexer": "ipython3",
   "version": "3.8.5"
  }
 },
 "nbformat": 4,
 "nbformat_minor": 4
}

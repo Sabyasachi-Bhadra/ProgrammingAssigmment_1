{
 "cells": [
  {
   "cell_type": "markdown",
   "id": "f14ea109",
   "metadata": {},
   "source": [
    "- Question1\n",
    " - Create a function that takes an integer and returns a list from 1 to the given number, where:\n",
    "1. If the number can be divided evenly by 4, amplify it by 10 (i.e. return 10 times the number).\n",
    "2. If the number cannot be divided evenly by 4, simply return the number."
   ]
  },
  {
   "cell_type": "code",
   "execution_count": 1,
   "id": "bb3f117f",
   "metadata": {},
   "outputs": [],
   "source": [
    "def amplify(num):\n",
    "    try:\n",
    "        lst = []\n",
    "        for i in range(1,num+1):\n",
    "            if i % 4 == 0:\n",
    "                lst.append(i*10)\n",
    "            else:\n",
    "                lst.append(i)\n",
    "        return lst\n",
    "    except Exception as err:\n",
    "        print(str(err))            "
   ]
  },
  {
   "cell_type": "code",
   "execution_count": 2,
   "id": "bb399563",
   "metadata": {},
   "outputs": [
    {
     "data": {
      "text/plain": [
       "[1, 2, 3, 40]"
      ]
     },
     "execution_count": 2,
     "metadata": {},
     "output_type": "execute_result"
    }
   ],
   "source": [
    "amplify(4)"
   ]
  },
  {
   "cell_type": "markdown",
   "id": "bdcaac3e",
   "metadata": {},
   "source": [
    "- Question2\n",
    " - Create a function that takes a list of numbers and return the number that&#39;s unique."
   ]
  },
  {
   "cell_type": "code",
   "execution_count": 3,
   "id": "e4300658",
   "metadata": {},
   "outputs": [],
   "source": [
    "def unique(lst):\n",
    "    try:\n",
    "        new_lst = []\n",
    "        for element in range(lst):\n",
    "            if element[i] not in new_lst:\n",
    "                new_lst.append(element[i])\n",
    "                \n",
    "#         return lst[len(lst)-len(new_lst)]\n",
    "        return new_lst[1]\n",
    "    except Exception as err:\n",
    "        print('an error occured!!')\n",
    "        print(str(err))"
   ]
  },
  {
   "cell_type": "code",
   "execution_count": 4,
   "id": "15d35c22",
   "metadata": {},
   "outputs": [
    {
     "name": "stdout",
     "output_type": "stream",
     "text": [
      "an error occured!!\n",
      "'list' object cannot be interpreted as an integer\n"
     ]
    }
   ],
   "source": [
    "unique([0, 0, 0.77, 0, 0])"
   ]
  },
  {
   "cell_type": "code",
   "execution_count": 5,
   "id": "e96e7bff",
   "metadata": {},
   "outputs": [],
   "source": [
    "l = [0,0,0.77,0,0]"
   ]
  },
  {
   "cell_type": "code",
   "execution_count": 6,
   "id": "457241c6",
   "metadata": {},
   "outputs": [],
   "source": [
    "l1 = [0,0.77]"
   ]
  },
  {
   "cell_type": "code",
   "execution_count": 7,
   "id": "3e838ed9",
   "metadata": {},
   "outputs": [
    {
     "data": {
      "text/plain": [
       "3"
      ]
     },
     "execution_count": 7,
     "metadata": {},
     "output_type": "execute_result"
    }
   ],
   "source": [
    "len(l)-len(l1)"
   ]
  },
  {
   "cell_type": "markdown",
   "id": "ab51b496",
   "metadata": {},
   "source": [
    "- Question3\n",
    " - Your task is to create a Circle constructor that creates a circle with a radius provided by an argument. The circles constructed must have two getters getArea() (PIr^2) and getPerimeter() (2PI*r) which give both respective areas and perimeter (circumference).\n",
    "\n",
    " - For help with this class, I have provided you with a Rectangle constructor which you can use as a base example."
   ]
  },
  {
   "cell_type": "code",
   "execution_count": 1,
   "id": "c93b0305",
   "metadata": {},
   "outputs": [],
   "source": [
    "class Circle():\n",
    "    \n",
    "    math = __import__('math')\n",
    "    \n",
    "    def __init__(self, r):\n",
    "        self.radius = r\n",
    "        \n",
    "    def getArea(self):\n",
    "        return self.math.pi*self.radius**2\n",
    "    \n",
    "    def getPerimeter(self):\n",
    "        return 2*self.math.pi*self.radius"
   ]
  },
  {
   "cell_type": "code",
   "execution_count": 2,
   "id": "a046454f",
   "metadata": {},
   "outputs": [],
   "source": [
    "circy1 = Circle(11)"
   ]
  },
  {
   "cell_type": "code",
   "execution_count": 3,
   "id": "dd17164b",
   "metadata": {},
   "outputs": [
    {
     "data": {
      "text/plain": [
       "380.132711084365"
      ]
     },
     "execution_count": 3,
     "metadata": {},
     "output_type": "execute_result"
    }
   ],
   "source": [
    "circy1.getArea()"
   ]
  },
  {
   "cell_type": "code",
   "execution_count": 4,
   "id": "631e92ff",
   "metadata": {},
   "outputs": [],
   "source": [
    "circy2 = Circle(4.44)"
   ]
  },
  {
   "cell_type": "code",
   "execution_count": 5,
   "id": "4169274c",
   "metadata": {},
   "outputs": [
    {
     "data": {
      "text/plain": [
       "27.897342763877365"
      ]
     },
     "execution_count": 5,
     "metadata": {},
     "output_type": "execute_result"
    }
   ],
   "source": [
    "circy2.getPerimeter()"
   ]
  },
  {
   "cell_type": "markdown",
   "id": "18b0a22b",
   "metadata": {},
   "source": [
    "- Question4\n",
    " - Create a function that takes a list of strings and return a list, sorted from shortest to longest."
   ]
  },
  {
   "cell_type": "code",
   "execution_count": 1,
   "id": "03c9cb7d",
   "metadata": {},
   "outputs": [],
   "source": [
    "def sort_by_length(ls):\n",
    "    try:\n",
    "        np = __import__('numpy')\n",
    "        len_ls = []\n",
    "        for element in ls:\n",
    "            len_ls.append(len(element))\n",
    "            \n",
    "        sort_index = np.argsort(len_ls)\n",
    "        \n",
    "        dummy_ls = ['dummy']*len(ls)\n",
    "        \n",
    "        for i in range(len(ls)):\n",
    "            dummy_ls[i] = ls[sort_index[i]]\n",
    "            \n",
    "    \n",
    "        return dummy_ls\n",
    "    except Exception as err:\n",
    "        print(str(err))"
   ]
  },
  {
   "cell_type": "code",
   "execution_count": 2,
   "id": "d0c82132",
   "metadata": {},
   "outputs": [
    {
     "data": {
      "text/plain": [
       "['Apple', 'Google', 'Microsoft']"
      ]
     },
     "execution_count": 2,
     "metadata": {},
     "output_type": "execute_result"
    }
   ],
   "source": [
    "sort_by_length(['Google', 'Apple', 'Microsoft'])"
   ]
  },
  {
   "cell_type": "code",
   "execution_count": 3,
   "id": "1f689fd2",
   "metadata": {},
   "outputs": [
    {
     "data": {
      "text/plain": [
       "['Raphael', 'Leonardo', 'Donatello', 'Michelangelo']"
      ]
     },
     "execution_count": 3,
     "metadata": {},
     "output_type": "execute_result"
    }
   ],
   "source": [
    "sort_by_length([\"Leonardo\", \"Michelangelo\", \"Raphael\", \"Donatello\"])"
   ]
  },
  {
   "cell_type": "markdown",
   "id": "aad726cb",
   "metadata": {},
   "source": [
    "- Question5\n",
    " - Create a function that validates whether three given integers form a Pythagorean triplet. The sum of the squares of the two smallest integers must equal the square of the largest number to be validated.\n",
    " \n",
    "- Notes\n",
    " - Numbers may not be given in a sorted order."
   ]
  },
  {
   "cell_type": "code",
   "execution_count": 18,
   "id": "6ed6f5ec",
   "metadata": {},
   "outputs": [],
   "source": [
    "def is_triplet(a,b,c):\n",
    "    try:\n",
    "        if a > b and a > c:\n",
    "            if b**2 + c**2 == a**2:\n",
    "                return True\n",
    "            else:\n",
    "                return False\n",
    "        elif b > a and b > c:\n",
    "            if  a**2 + c**2 == b**2:\n",
    "                return True\n",
    "            else:\n",
    "                return False\n",
    "        else:\n",
    "            if a**2 + b**2 == c**2:\n",
    "                return True\n",
    "            else:\n",
    "                return False\n",
    "            \n",
    "    except Exception as err:\n",
    "        print('an error occured!!')\n",
    "        print(str(err))        "
   ]
  },
  {
   "cell_type": "code",
   "execution_count": 7,
   "id": "6f86ea02",
   "metadata": {},
   "outputs": [],
   "source": []
  },
  {
   "cell_type": "code",
   "execution_count": null,
   "id": "e7a67d15",
   "metadata": {},
   "outputs": [],
   "source": []
  },
  {
   "cell_type": "code",
   "execution_count": null,
   "id": "448546d0",
   "metadata": {},
   "outputs": [],
   "source": []
  },
  {
   "cell_type": "code",
   "execution_count": null,
   "id": "e6917dd0",
   "metadata": {},
   "outputs": [],
   "source": []
  },
  {
   "cell_type": "code",
   "execution_count": null,
   "id": "f9157f7b",
   "metadata": {},
   "outputs": [],
   "source": []
  },
  {
   "cell_type": "code",
   "execution_count": null,
   "id": "04daa7a8",
   "metadata": {},
   "outputs": [],
   "source": []
  }
 ],
 "metadata": {
  "kernelspec": {
   "display_name": "Python 3",
   "language": "python",
   "name": "python3"
  },
  "language_info": {
   "codemirror_mode": {
    "name": "ipython",
    "version": 3
   },
   "file_extension": ".py",
   "mimetype": "text/x-python",
   "name": "python",
   "nbconvert_exporter": "python",
   "pygments_lexer": "ipython3",
   "version": "3.8.8"
  }
 },
 "nbformat": 4,
 "nbformat_minor": 5
}

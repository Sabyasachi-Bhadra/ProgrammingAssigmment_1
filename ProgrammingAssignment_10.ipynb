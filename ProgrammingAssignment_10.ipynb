{
 "cells": [
  {
   "cell_type": "code",
   "execution_count": 1,
   "metadata": {},
   "outputs": [],
   "source": [
    "import os\n",
    "import logging"
   ]
  },
  {
   "cell_type": "code",
   "execution_count": 2,
   "metadata": {},
   "outputs": [],
   "source": [
    "if os.path.exists('assignment10.log'):\n",
    "    os.remove('assignment10.log')"
   ]
  },
  {
   "cell_type": "code",
   "execution_count": 3,
   "metadata": {},
   "outputs": [],
   "source": [
    "logging.basicConfig(filename = 'assignment10.log', level = logging.INFO, format = '%(asctime)s - %(message)s')"
   ]
  },
  {
   "cell_type": "code",
   "execution_count": 4,
   "metadata": {},
   "outputs": [
    {
     "name": "stderr",
     "output_type": "stream",
     "text": [
      "2021-06-09 20:59:06,071 - logging has started!!\n"
     ]
    }
   ],
   "source": [
    "console_log = logging.StreamHandler()\n",
    "console_log.setLevel(logging.DEBUG)\n",
    "format = logging.Formatter('%(asctime)s - %(message)s')\n",
    "console_log.setFormatter(format)\n",
    "logging.getLogger('').addHandler(console_log)\n",
    "logging.info(\"logging has started!!\")"
   ]
  },
  {
   "cell_type": "markdown",
   "metadata": {},
   "source": [
    "1. Write a Python program to find sum of elements in list?\n",
    "2. Write a Python program to Multiply all numbers in the list?\n",
    "3. Write a Python program to find smallest number in a list?\n",
    "4. Write a Python program to find largest number in a list?\n",
    "5. Write a Python program to find second largest number in a list?\n",
    "6. Write a Python program to find N largest elements from a list?\n",
    "7. Write a Python program to print even numbers in a list?\n",
    "8. Write a Python program to print odd numbers in a List?\n",
    "9. Write a Python program to Remove empty List from List?\n",
    "10. Write a Python program to Cloning or Copying a list?\n",
    "11. Write a Python program to Count occurrences of an element in a list?"
   ]
  },
  {
   "cell_type": "code",
   "execution_count": 5,
   "metadata": {},
   "outputs": [],
   "source": [
    "def _sum_(lst):\n",
    "    try:\n",
    "        logging.info(str(lst))\n",
    "        sum_ = 0\n",
    "        for i in range(0,len(lst)):\n",
    "            sum_ = sum_ + lst[i]\n",
    "        logging.info('Successfully executed!!')\n",
    "        return 'sum of elements in list is ' + str(sum_)\n",
    "    except Exception as err:\n",
    "        logging.info('An error has occured!!')\n",
    "        logging.error(str(err))            "
   ]
  },
  {
   "cell_type": "code",
   "execution_count": 6,
   "metadata": {},
   "outputs": [
    {
     "name": "stderr",
     "output_type": "stream",
     "text": [
      "2021-06-09 20:59:07,686 - [1, 2, 3, 4, 5, 6, 7, 8, 9]\n",
      "2021-06-09 20:59:07,688 - Successfully executed!!\n"
     ]
    },
    {
     "data": {
      "text/plain": [
       "'sum of elements in list is 45'"
      ]
     },
     "execution_count": 6,
     "metadata": {},
     "output_type": "execute_result"
    }
   ],
   "source": [
    " _sum_([i for i in range(1,10)])"
   ]
  },
  {
   "cell_type": "code",
   "execution_count": 7,
   "metadata": {},
   "outputs": [],
   "source": [
    "def multiplication(lst):\n",
    "    try:\n",
    "        logging.info(str(lst))\n",
    "        mul_ = 1\n",
    "        for i in range(0,len(lst)):\n",
    "            mul_ = mul_ * lst[i]\n",
    "        logging.info('Successfully excuted!!')\n",
    "        return 'multiplication of all numbers in the list is ' + str(mul_)\n",
    "    except Exception as err:\n",
    "        logging.info('An error has occured!!')\n",
    "        logging.error(str(err))"
   ]
  },
  {
   "cell_type": "code",
   "execution_count": 8,
   "metadata": {},
   "outputs": [
    {
     "name": "stderr",
     "output_type": "stream",
     "text": [
      "2021-06-09 20:59:08,926 - [1, 2, 3, 4]\n",
      "2021-06-09 20:59:08,928 - Successfully excuted!!\n"
     ]
    },
    {
     "data": {
      "text/plain": [
       "'multiplication of all numbers in the list is 24'"
      ]
     },
     "execution_count": 8,
     "metadata": {},
     "output_type": "execute_result"
    }
   ],
   "source": [
    "multiplication([i for i in range(1,5)])"
   ]
  },
  {
   "cell_type": "code",
   "execution_count": 9,
   "metadata": {},
   "outputs": [],
   "source": [
    "def smallest_element_in_list(lst):\n",
    "    logging.info(str(lst))\n",
    "    min_ = lst[0]\n",
    "    for i in lst:\n",
    "        try:\n",
    "            if i < min_:\n",
    "                min_ = i\n",
    "        except Exception as err:\n",
    "            logging.info('An error has has occured!!')\n",
    "            logging.error(str(err))\n",
    "    print('smallest number in the list is : '+ str(min_))              "
   ]
  },
  {
   "cell_type": "code",
   "execution_count": 10,
   "metadata": {},
   "outputs": [
    {
     "name": "stderr",
     "output_type": "stream",
     "text": [
      "2021-06-09 20:59:11,862 - [1, 3, 6, -3, -10, -23]\n"
     ]
    },
    {
     "name": "stdout",
     "output_type": "stream",
     "text": [
      "smallest number in the list is : -23\n"
     ]
    }
   ],
   "source": [
    "smallest_element_in_list([1, 3, 6, -3,-10,-23])"
   ]
  },
  {
   "cell_type": "code",
   "execution_count": 11,
   "metadata": {},
   "outputs": [],
   "source": [
    "def largest_element_in_list(lst):\n",
    "    logging.info(str(lst))\n",
    "    max_ = lst[0]\n",
    "    for i in lst:\n",
    "        try:\n",
    "            if i > max_:\n",
    "                max_ = i\n",
    "        except Exception as err:\n",
    "            logging.info('An error has has occured!!')\n",
    "            logging.error(str(err))\n",
    "    return 'largest number in the list is : '+ str(max_)              "
   ]
  },
  {
   "cell_type": "code",
   "execution_count": 12,
   "metadata": {},
   "outputs": [
    {
     "name": "stderr",
     "output_type": "stream",
     "text": [
      "2021-06-09 20:59:17,942 - [1, 23, 4, -9, 345]\n"
     ]
    },
    {
     "data": {
      "text/plain": [
       "'largest number in the list is : 345'"
      ]
     },
     "execution_count": 12,
     "metadata": {},
     "output_type": "execute_result"
    }
   ],
   "source": [
    "largest_element_in_list([1,23,4,-9,345])"
   ]
  },
  {
   "cell_type": "code",
   "execution_count": 15,
   "metadata": {},
   "outputs": [],
   "source": [
    "def second_largest_element_in_list(lst):\n",
    "    logging.info(str(lst))\n",
    "    max_ = max(lst[0],lst[1])\n",
    "    second_max_ = min(lst[0],lst[1])\n",
    "    for i in range(2,len(lst)):\n",
    "        try:\n",
    "            if lst[i] > max_:\n",
    "                #logging.info(str(lst[i]))\n",
    "                second_max_ = max_\n",
    "                max_ = lst[i]\n",
    "            else:\n",
    "                if lst[i] > second_max_:\n",
    "                    second_max_ = lst[i]\n",
    "        except Exception as err:\n",
    "            logging.info('An error has has occured!!')\n",
    "            logging.error(str(err))\n",
    "    return 'second largest element in the list is : ' + str(second_max_)                "
   ]
  },
  {
   "cell_type": "code",
   "execution_count": 16,
   "metadata": {},
   "outputs": [
    {
     "name": "stderr",
     "output_type": "stream",
     "text": [
      "2021-06-09 21:43:52,581 - [1, 7, 6, 79, 9, 2]\n"
     ]
    },
    {
     "data": {
      "text/plain": [
       "'second largest element in the list is : 9'"
      ]
     },
     "execution_count": 16,
     "metadata": {},
     "output_type": "execute_result"
    }
   ],
   "source": [
    "second_largest_element_in_list([1,7,6,79,9,2])"
   ]
  },
  {
   "cell_type": "code",
   "execution_count": 18,
   "metadata": {},
   "outputs": [
    {
     "data": {
      "text/plain": [
       "[1, 2, 3, 4, 5, 6, 7, 8, 9, 10, 11, 12, 13, 14, 15, 16, 17, 18]"
      ]
     },
     "execution_count": 18,
     "metadata": {},
     "output_type": "execute_result"
    }
   ],
   "source": [
    "[i for i in range(1,19)]"
   ]
  },
  {
   "cell_type": "code",
   "execution_count": 24,
   "metadata": {},
   "outputs": [],
   "source": [
    "def N_largest_elements_in_list(lst, N):\n",
    "    logging.info(str(lst))\n",
    "    logging.info('N : '+str(N))\n",
    "    lst_ = []\n",
    "    for i in range(0,N):\n",
    "        max_ = 0\n",
    "        try:\n",
    "            for j in range(len(lst)):\n",
    "                try:\n",
    "                    if lst[j] > max_:\n",
    "                        max_ = lst[j]\n",
    "                except Exception as err:\n",
    "                    logging.info('An error has has occured!!')\n",
    "                    logging.error(str(err))\n",
    "                    \n",
    "            lst.remove(max_)\n",
    "            lst_.append(max_)\n",
    "            logging.info(str(lst_))\n",
    "        except Exception as err:\n",
    "            logging.info('An error has has occured!!')\n",
    "            logging.error(str(err))\n",
    "    return ' N largest elements from the list are : '+ str(lst_)    "
   ]
  },
  {
   "cell_type": "code",
   "execution_count": 25,
   "metadata": {},
   "outputs": [
    {
     "name": "stderr",
     "output_type": "stream",
     "text": [
      "2021-06-10 06:28:55,119 - [1, 7, 6, 79, 9, 2]\n",
      "2021-06-10 06:28:55,120 - N : 4\n",
      "2021-06-10 06:28:55,122 - [79]\n",
      "2021-06-10 06:28:55,123 - [79, 9]\n",
      "2021-06-10 06:28:55,125 - [79, 9, 7]\n",
      "2021-06-10 06:28:55,126 - [79, 9, 7, 6]\n"
     ]
    },
    {
     "data": {
      "text/plain": [
       "' N largest elements from the list are : [79, 9, 7, 6]'"
      ]
     },
     "execution_count": 25,
     "metadata": {},
     "output_type": "execute_result"
    }
   ],
   "source": [
    "N_largest_elements_in_list([1,7,6,79,9,2],4)"
   ]
  },
  {
   "cell_type": "code",
   "execution_count": 26,
   "metadata": {},
   "outputs": [],
   "source": [
    "def even_num_in_list(lst):\n",
    "    logging.info(str(lst))\n",
    "    lst_ = []\n",
    "    for i in lst:\n",
    "        try:\n",
    "            if i % 2 == 0:\n",
    "                lst_.append(i)\n",
    "        except Exception as err:\n",
    "            logging.info('An error has occured!!')\n",
    "            logging.error(str(err))\n",
    "    return 'even numbers in the lists are : ' + str(lst_)"
   ]
  },
  {
   "cell_type": "code",
   "execution_count": 27,
   "metadata": {},
   "outputs": [
    {
     "name": "stderr",
     "output_type": "stream",
     "text": [
      "2021-06-10 06:39:39,720 - [1, 7, 6, 79, 9, 2]\n"
     ]
    },
    {
     "data": {
      "text/plain": [
       "'even numbers in the lists are : [6, 2]'"
      ]
     },
     "execution_count": 27,
     "metadata": {},
     "output_type": "execute_result"
    }
   ],
   "source": [
    "even_num_in_list([1,7,6,79,9,2])"
   ]
  },
  {
   "cell_type": "code",
   "execution_count": 28,
   "metadata": {},
   "outputs": [],
   "source": [
    "def odd_num_in_list(lst):\n",
    "    logging.info(str(lst))\n",
    "    lst_ = []\n",
    "    for i in lst:\n",
    "        try:\n",
    "            if i % 2 != 0:\n",
    "                lst_.append(i)\n",
    "        except Exception as err:\n",
    "            logging.info('An error has occured!!')\n",
    "            logging.error(str(err))\n",
    "    return 'odd numbers in the lists are : ' + str(lst_)"
   ]
  },
  {
   "cell_type": "code",
   "execution_count": 29,
   "metadata": {},
   "outputs": [
    {
     "name": "stderr",
     "output_type": "stream",
     "text": [
      "2021-06-10 06:41:01,232 - [1, 7, 6, 79, 9, 2]\n"
     ]
    },
    {
     "data": {
      "text/plain": [
       "'odd numbers in the lists are : [1, 7, 79, 9]'"
      ]
     },
     "execution_count": 29,
     "metadata": {},
     "output_type": "execute_result"
    }
   ],
   "source": [
    "odd_num_in_list([1,7,6,79,9,2])"
   ]
  },
  {
   "cell_type": "code",
   "execution_count": 30,
   "metadata": {},
   "outputs": [],
   "source": [
    "def remove_emp_list(lst):\n",
    "    logging.info(str(lst))\n",
    "    lst_ = []\n",
    "    for i in lst:\n",
    "        try:\n",
    "            if i != []:\n",
    "                lst_.append(i)\n",
    "        except Exception as err:\n",
    "            logging.info('An error has occured!!')\n",
    "            logging.error(str(err))\n",
    "    return 'List after removing empty list is : ' + str(lst_)       "
   ]
  },
  {
   "cell_type": "code",
   "execution_count": 31,
   "metadata": {},
   "outputs": [
    {
     "name": "stderr",
     "output_type": "stream",
     "text": [
      "2021-06-10 09:20:25,897 - [5, 6, [], 3, [], [], 9]\n"
     ]
    },
    {
     "data": {
      "text/plain": [
       "'List after removing empty list is : [5, 6, 3, 9]'"
      ]
     },
     "execution_count": 31,
     "metadata": {},
     "output_type": "execute_result"
    }
   ],
   "source": [
    "remove_emp_list([5, 6, [], 3, [], [], 9])"
   ]
  },
  {
   "cell_type": "code",
   "execution_count": 32,
   "metadata": {},
   "outputs": [],
   "source": [
    "def clone_list(lst):\n",
    "    logging.info(str(lst))\n",
    "    lst_ = []\n",
    "    for i in lst:\n",
    "        try:\n",
    "            lst_.append(i)\n",
    "        except Exception as err:\n",
    "            logging.info('An error has occured!!')\n",
    "            logging.error(str(err))\n",
    "    return 'clone of the given list is : ' + str(lst_)"
   ]
  },
  {
   "cell_type": "code",
   "execution_count": 33,
   "metadata": {},
   "outputs": [
    {
     "name": "stderr",
     "output_type": "stream",
     "text": [
      "2021-06-10 10:13:40,271 - [4, 8, 2, 10, 15, 18]\n"
     ]
    },
    {
     "data": {
      "text/plain": [
       "'clone of the given list is : [4, 8, 2, 10, 15, 18]'"
      ]
     },
     "execution_count": 33,
     "metadata": {},
     "output_type": "execute_result"
    }
   ],
   "source": [
    "clone_list([4, 8, 2, 10, 15, 18])"
   ]
  },
  {
   "cell_type": "code",
   "execution_count": 34,
   "metadata": {},
   "outputs": [],
   "source": [
    "def count_occurences_of_an_element(lst, X):\n",
    "    logging.info(str(lst))\n",
    "    logging.info('X : '+ str(X))\n",
    "    count = 0\n",
    "    for i in lst:\n",
    "        try:\n",
    "            if i == X:\n",
    "                count += 1\n",
    "        except Exception as err:\n",
    "            logging.info('An error has occured!!')\n",
    "            logging.error(str(err))\n",
    "    return 'The occurences of {0} in the list is {1}'.format(str(X), str(count))"
   ]
  },
  {
   "cell_type": "code",
   "execution_count": 35,
   "metadata": {},
   "outputs": [
    {
     "name": "stderr",
     "output_type": "stream",
     "text": [
      "2021-06-10 10:34:27,160 - [4, 8, 2, 10, 15, 18]\n",
      "2021-06-10 10:34:27,162 - X : 4\n"
     ]
    },
    {
     "data": {
      "text/plain": [
       "'The occurences of 4 in the list is 1'"
      ]
     },
     "execution_count": 35,
     "metadata": {},
     "output_type": "execute_result"
    }
   ],
   "source": [
    "count_occurences_of_an_element([4, 8, 2, 10, 15, 18], 4)"
   ]
  },
  {
   "cell_type": "code",
   "execution_count": null,
   "metadata": {},
   "outputs": [],
   "source": []
  }
 ],
 "metadata": {
  "kernelspec": {
   "display_name": "Python 3",
   "language": "python",
   "name": "python3"
  },
  "language_info": {
   "codemirror_mode": {
    "name": "ipython",
    "version": 3
   },
   "file_extension": ".py",
   "mimetype": "text/x-python",
   "name": "python",
   "nbconvert_exporter": "python",
   "pygments_lexer": "ipython3",
   "version": "3.8.5"
  }
 },
 "nbformat": 4,
 "nbformat_minor": 4
}

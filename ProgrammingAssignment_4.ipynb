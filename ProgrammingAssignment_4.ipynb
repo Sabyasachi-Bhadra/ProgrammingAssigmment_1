{
 "cells": [
  {
   "cell_type": "markdown",
   "metadata": {},
   "source": [
    "1. Write a Python Program to Find the Factorial of a Number?"
   ]
  },
  {
   "cell_type": "code",
   "execution_count": 5,
   "metadata": {},
   "outputs": [
    {
     "name": "stdout",
     "output_type": "stream",
     "text": [
      "Enter a number : 5\n",
      "The factorial of the given number 5 is 120 \n"
     ]
    }
   ],
   "source": [
    "user_input = int(input(\"Enter a number : \"))\n",
    "\n",
    "fact = 1\n",
    "\n",
    "# Lets' check whtether the number is negative, zero or positive\n",
    "if user_input < 0:\n",
    "    print(\"Unable to produce factorial of a negative number.\")\n",
    "elif user_input == 0:\n",
    "    print(\"The factorial of zero is 1.\")\n",
    "else:\n",
    "    for i in range(1, user_input+1):\n",
    "        fact = fact * i\n",
    "    print(\"The factorial of the given number {} is {} \".format(user_input, fact))    "
   ]
  },
  {
   "cell_type": "markdown",
   "metadata": {},
   "source": [
    "2. Write a Python Program to Display the multiplication Table?"
   ]
  },
  {
   "cell_type": "code",
   "execution_count": 6,
   "metadata": {},
   "outputs": [
    {
     "name": "stdout",
     "output_type": "stream",
     "text": [
      "Enter a number : 5\n",
      "5 * 1  =  5\n",
      "5 * 2  =  10\n",
      "5 * 3  =  15\n",
      "5 * 4  =  20\n",
      "5 * 5  =  25\n",
      "5 * 6  =  30\n",
      "5 * 7  =  35\n",
      "5 * 8  =  40\n",
      "5 * 9  =  45\n",
      "5 * 10  =  50\n"
     ]
    }
   ],
   "source": [
    "user_input = int(input(\"Enter a number : \"))\n",
    "\n",
    "# We will iterate the for loop upto 10 and it will produce multiplication table of a given number from 1 to 10 times.\n",
    "for i in range(1,11):\n",
    "    print(user_input, \"*\", i, \" = \", user_input*i)"
   ]
  },
  {
   "cell_type": "markdown",
   "metadata": {},
   "source": [
    "3. Write a Python Program to Print the Fibonacci sequence?"
   ]
  },
  {
   "cell_type": "code",
   "execution_count": 9,
   "metadata": {},
   "outputs": [
    {
     "name": "stdout",
     "output_type": "stream",
     "text": [
      "Enter a number : 7\n",
      "[0, 1, 1, 2, 3, 5, 8]\n"
     ]
    }
   ],
   "source": [
    "# First we will take the user input as a integer that how many times user want to iterate the Fibonacci Sequence.\n",
    "user_input = int(input(\"Enter a number : \"))\n",
    "\n",
    "a = 0\n",
    "b = 1\n",
    "fib_list = []\n",
    "for i in range(user_input):\n",
    "    fib_list.append(a)\n",
    "    a, b = b, a + b\n",
    "print(fib_list)"
   ]
  },
  {
   "cell_type": "markdown",
   "metadata": {},
   "source": [
    "4. Write a Python Program to Check Armstrong Number?"
   ]
  },
  {
   "cell_type": "code",
   "execution_count": 25,
   "metadata": {},
   "outputs": [
    {
     "name": "stdout",
     "output_type": "stream",
     "text": [
      "Enter a number : 1634\n",
      "The given number 1634 is an Armstrong number.\n"
     ]
    }
   ],
   "source": [
    "user_input = int(input(\"Enter a number : \"))\n",
    "\n",
    "sum = 0\n",
    "temp = user_input\n",
    "while temp > 0:\n",
    "    rmdr = temp % 10\n",
    "    sum = sum + rmdr**len(str(user_input))\n",
    "    temp = temp // 10\n",
    "    \n",
    "if user_input == sum:\n",
    "    print(\"The given number {} is an Armstrong number.\".format(user_input))\n",
    "else:\n",
    "    print(\"The given number {} is not an Armstrong number.\".format(user_input))"
   ]
  },
  {
   "cell_type": "markdown",
   "metadata": {},
   "source": [
    "5. Write a Python Program to Find Armstrong Number in an Interval?"
   ]
  },
  {
   "cell_type": "code",
   "execution_count": 28,
   "metadata": {},
   "outputs": [
    {
     "name": "stdout",
     "output_type": "stream",
     "text": [
      "Enter the lower bound : 100\n",
      "Enter the upper bound : 10000\n",
      "153 370 371 407 1634 8208 9474 "
     ]
    }
   ],
   "source": [
    "l_bd = int(input(\"Enter the lower bound : \"))\n",
    "u_bd = int(input(\"Enter the upper bound : \"))\n",
    "\n",
    "for i in range(l_bd, u_bd+1):\n",
    "    sum = 0\n",
    "    temp = i\n",
    "    while temp > 0:\n",
    "        rmdr = temp % 10\n",
    "        sum = sum + rmdr**len(str(i))\n",
    "        temp = temp // 10\n",
    "        \n",
    "    if i == sum:\n",
    "        print(i, end = \" \")\n",
    "    else:\n",
    "        pass\n",
    "    "
   ]
  },
  {
   "cell_type": "markdown",
   "metadata": {},
   "source": [
    "6. Write a Python Program to Find the Sum of Natural Numbers?"
   ]
  },
  {
   "cell_type": "code",
   "execution_count": 29,
   "metadata": {},
   "outputs": [
    {
     "name": "stdout",
     "output_type": "stream",
     "text": [
      "Enter the user input : 5\n",
      "The sum of 5 natural numbers is 15 \n"
     ]
    }
   ],
   "source": [
    "n = int(input(\"Enter the user input : \"))\n",
    "\n",
    "if n < 0:\n",
    "    print(\"Plese enter a non-negative number.\")\n",
    "else:\n",
    "    sum = 0\n",
    "    temp = n\n",
    "    while temp > 0:\n",
    "        sum = sum + temp\n",
    "        temp = temp - 1\n",
    "    print(\"The sum of {0} natural numbers is {1} \".format(n, sum))"
   ]
  }
 ],
 "metadata": {
  "kernelspec": {
   "display_name": "Python 3",
   "language": "python",
   "name": "python3"
  },
  "language_info": {
   "codemirror_mode": {
    "name": "ipython",
    "version": 3
   },
   "file_extension": ".py",
   "mimetype": "text/x-python",
   "name": "python",
   "nbconvert_exporter": "python",
   "pygments_lexer": "ipython3",
   "version": "3.8.5"
  }
 },
 "nbformat": 4,
 "nbformat_minor": 4
}

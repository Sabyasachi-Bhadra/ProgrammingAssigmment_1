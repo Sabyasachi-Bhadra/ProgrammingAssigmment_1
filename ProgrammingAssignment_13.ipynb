{
 "cells": [
  {
   "cell_type": "code",
   "execution_count": 1,
   "metadata": {},
   "outputs": [],
   "source": [
    "import os\n",
    "import logging\n",
    "if os.path.exists('file.log'):\n",
    "    os.remove('file.log')"
   ]
  },
  {
   "cell_type": "code",
   "execution_count": 2,
   "metadata": {},
   "outputs": [],
   "source": [
    "logging.basicConfig(filename = 'file.log', level = logging.INFO, format = '%(asctime)s - %(message)s')"
   ]
  },
  {
   "cell_type": "code",
   "execution_count": 3,
   "metadata": {},
   "outputs": [
    {
     "name": "stderr",
     "output_type": "stream",
     "text": [
      "2021-06-27 23:35:00,736 - logging has started!!\n"
     ]
    }
   ],
   "source": [
    "console_log = logging.StreamHandler()\n",
    "console_log.setLevel(logging.DEBUG)\n",
    "format = logging.Formatter('%(asctime)s - %(message)s')\n",
    "console_log.setFormatter(format)\n",
    "logging.getLogger('').addHandler(console_log)\n",
    "logging.info('logging has started!!')"
   ]
  },
  {
   "cell_type": "markdown",
   "metadata": {},
   "source": [
    "- Question 1:\n",
    "- Write a program that calculates and prints the value according to the given formula:\n",
    "- Q = Square root of [(2 * C * D)/H]\n",
    "- Following are the fixed values of C and H:\n",
    "- C is 50. H is 30.\n",
    "- D is the variable whose values should be input to your program in a comma-separated sequence."
   ]
  },
  {
   "cell_type": "code",
   "execution_count": 4,
   "metadata": {},
   "outputs": [],
   "source": [
    "import math"
   ]
  },
  {
   "cell_type": "code",
   "execution_count": 5,
   "metadata": {},
   "outputs": [],
   "source": [
    "def formula(*args):\n",
    "    logging.info(str(args))\n",
    "    logging.info('C : 50, H : 30')\n",
    "    try:\n",
    "        res_lst = []\n",
    "        for D in args:\n",
    "            Q = round(math.sqrt((2*50*D)/30))\n",
    "            res_lst.append(Q)\n",
    "    except Exception as err:\n",
    "        logging.info('an error has occured!!')\n",
    "        logging.error(str(err))\n",
    "    return res_lst            "
   ]
  },
  {
   "cell_type": "code",
   "execution_count": 6,
   "metadata": {},
   "outputs": [
    {
     "name": "stderr",
     "output_type": "stream",
     "text": [
      "2021-06-27 23:35:00,783 - (150, 160, 170)\n",
      "2021-06-27 23:35:00,785 - C : 50, H : 30\n"
     ]
    },
    {
     "data": {
      "text/plain": [
       "[22, 23, 24]"
      ]
     },
     "execution_count": 6,
     "metadata": {},
     "output_type": "execute_result"
    }
   ],
   "source": [
    "formula(150,160,170)"
   ]
  },
  {
   "cell_type": "code",
   "execution_count": 7,
   "metadata": {},
   "outputs": [
    {
     "data": {
      "text/plain": [
       "[[0, 0, 0, 0, 0],\n",
       " [0, 0, 0, 0, 0],\n",
       " [0, 0, 0, 0, 0],\n",
       " [0, 0, 0, 0, 0],\n",
       " [0, 0, 0, 0, 0],\n",
       " [0, 0, 0, 0, 0]]"
      ]
     },
     "execution_count": 7,
     "metadata": {},
     "output_type": "execute_result"
    }
   ],
   "source": [
    "[[0 for i in range(5)] for i in range(6)]"
   ]
  },
  {
   "cell_type": "code",
   "execution_count": 8,
   "metadata": {},
   "outputs": [
    {
     "data": {
      "text/plain": [
       "[[0, 0, 0, 0, 0],\n",
       " [0, 0, 0, 0, 0],\n",
       " [0, 0, 0, 0, 0],\n",
       " [0, 0, 0, 0, 0],\n",
       " [0, 0, 0, 0, 0],\n",
       " [0, 0, 0, 0, 0]]"
      ]
     },
     "execution_count": 8,
     "metadata": {},
     "output_type": "execute_result"
    }
   ],
   "source": [
    "[[0 for i in range(5)] for i in range(6)]"
   ]
  },
  {
   "cell_type": "markdown",
   "metadata": {},
   "source": [
    "- Question 2:\n",
    "- Write a program which takes 2 digits, X,Y as input and generates a 2-dimensional array. The\n",
    "  element value in the i-th row and j-th column of the array should be i*j.\n",
    "- Note: i=0,1.., X-1; j=0,1,¡Y-1.\n",
    "- Example\n",
    "- Suppose the following inputs are given to the program:\n",
    "- 3,5\n",
    "- Then, the output of the program should be:\n",
    "[[0, 0, 0, 0, 0], [0, 1, 2, 3, 4], [0, 2, 4, 6, 8]]"
   ]
  },
  {
   "cell_type": "code",
   "execution_count": 9,
   "metadata": {},
   "outputs": [],
   "source": [
    "def generates_2d_array_(X, Y):\n",
    "    logging.info(str(X)+';'+str(Y))\n",
    "    try:\n",
    "        mul_lst = [[0 for col_ in range(Y)] for row_ in range(X)]\n",
    "        \n",
    "        for row_ in range(X):\n",
    "            for col_ in range(Y):\n",
    "                mul_lst[row_][col_] = row_ * col_\n",
    "    except Exception as err:\n",
    "        logging.info('an error has occured!!')\n",
    "        logging.error(str(err))\n",
    "    return mul_lst       "
   ]
  },
  {
   "cell_type": "code",
   "execution_count": 10,
   "metadata": {},
   "outputs": [
    {
     "name": "stderr",
     "output_type": "stream",
     "text": [
      "2021-06-27 23:35:00,859 - 3;5\n"
     ]
    },
    {
     "data": {
      "text/plain": [
       "[[0, 0, 0, 0, 0], [0, 1, 2, 3, 4], [0, 2, 4, 6, 8]]"
      ]
     },
     "execution_count": 10,
     "metadata": {},
     "output_type": "execute_result"
    }
   ],
   "source": [
    "generates_2d_array_(3,5)"
   ]
  },
  {
   "cell_type": "markdown",
   "metadata": {},
   "source": [
    "- Question 3:\n",
    "- Write a program that accepts a comma separated sequence of words as input and prints the\n",
    "  words in a comma-separated sequence after sorting them alphabetically.\n",
    "- Suppose the following input is supplied to the program:\n",
    "- without,hello,bag,world\n",
    "- Then, the output should be:\n",
    "- bag,hello,without,world"
   ]
  },
  {
   "cell_type": "code",
   "execution_count": 11,
   "metadata": {},
   "outputs": [
    {
     "name": "stderr",
     "output_type": "stream",
     "text": [
      "2021-06-27 23:35:00,878 - ('without', 'hello', 'bag', 'world')\n"
     ]
    },
    {
     "data": {
      "text/plain": [
       "'bag,hello,without,world'"
      ]
     },
     "execution_count": 11,
     "metadata": {},
     "output_type": "execute_result"
    }
   ],
   "source": [
    "def sort_seq_of_words_alphabetically(*args):\n",
    "    logging.info(args)\n",
    "    try:\n",
    "        words = [word for word in args]\n",
    "        return ','.join(sorted(words))\n",
    "    except Exception as err:\n",
    "        logging.info('an error has occured!!')\n",
    "        logging.info(str(err))    \n",
    "\n",
    "sort_seq_of_words_alphabetically('without','hello','bag','world')"
   ]
  },
  {
   "cell_type": "markdown",
   "metadata": {},
   "source": [
    "- Question 4:\n",
    "- Write a program that accepts a sequence of whitespace separated words as input and prints the words after removing all duplicate words and sorting them alphanumerically.\n",
    "- Suppose the following input is supplied to the program:\n",
    "- hello world and practice makes perfect and hello world again\n",
    "- Then, the output should be:\n",
    "- again and hello makes perfect practice world"
   ]
  },
  {
   "cell_type": "code",
   "execution_count": 12,
   "metadata": {},
   "outputs": [
    {
     "name": "stderr",
     "output_type": "stream",
     "text": [
      "2021-06-27 23:35:00,910 - hello world and practice makes perfect and hello world again\n"
     ]
    },
    {
     "data": {
      "text/plain": [
       "'again and hello makes perfect practice world'"
      ]
     },
     "execution_count": 12,
     "metadata": {},
     "output_type": "execute_result"
    }
   ],
   "source": [
    "def remove_dup_and_sort_alphanumerically(words):\n",
    "    logging.info(words)\n",
    "    try:\n",
    "        words_ = words.split(' ')\n",
    "        lst = []\n",
    "        \n",
    "        for i in words_:\n",
    "            try:\n",
    "                if i not in lst:\n",
    "                    lst.append(i)\n",
    "            except Exception as err:\n",
    "                logging.info('an error has occured!!')\n",
    "                logging.info(str(err))\n",
    "        \n",
    "        return ' '.join(sorted(lst))\n",
    "    \n",
    "    except Exceptione as err:\n",
    "        logging.info('an error has occured!!')\n",
    "        logging.error(str(err))\n",
    "        \n",
    "remove_dup_and_sort_alphanumerically('hello world and practice makes perfect and hello world again')"
   ]
  },
  {
   "cell_type": "markdown",
   "metadata": {},
   "source": [
    "- Question 5:\n",
    "- Write a program that accepts a sentence and calculate the number of letters and digits.\n",
    "- Suppose the following input is supplied to the program:\n",
    "- hello world! 123\n",
    "- Then, the output should be:\n",
    "- LETTERS 10 DIGIT 3"
   ]
  },
  {
   "cell_type": "code",
   "execution_count": 13,
   "metadata": {},
   "outputs": [
    {
     "name": "stderr",
     "output_type": "stream",
     "text": [
      "2021-06-27 23:35:00,942 - hello world! 123\n"
     ]
    },
    {
     "data": {
      "text/plain": [
       "'LETTERS 10 DIGIT 3'"
      ]
     },
     "execution_count": 13,
     "metadata": {},
     "output_type": "execute_result"
    }
   ],
   "source": [
    "def calculate_the_number_of_letters_and_digits_in_(sentence):\n",
    "    logging.info(sentence)\n",
    "    try:\n",
    "        l = 0\n",
    "        d = 0\n",
    "        for charc_ in sentence:\n",
    "            try:\n",
    "                if charc_.isdigit():\n",
    "                    d = d + 1\n",
    "                elif charc_.isalpha():\n",
    "                    l = l + 1\n",
    "                else:\n",
    "                    pass\n",
    "            except Exception as err:\n",
    "                logging.info('an error has occured!!')\n",
    "                logging.error(str(err))\n",
    "        return 'LETTERS '+str(l)+ ' DIGIT '+str(d)\n",
    "    \n",
    "    except Exception as err:\n",
    "        logging.info('an error has occured!!')\n",
    "        logging.error(str(err))\n",
    "\n",
    "calculate_the_number_of_letters_and_digits_in_('hello world! 123')"
   ]
  },
  {
   "cell_type": "markdown",
   "metadata": {},
   "source": [
    "- Question 6:\n",
    "- A website requires the users to input username and password to register. Write a program to check the validity of password input by users.\n",
    "- Following are the criteria for checking the password:\n",
    "1. At least 1 letter between [a-z]\n",
    "2. At least 1 number between [0-9]\n",
    "1. At least 1 letter between [A-Z]\n",
    "3. At least 1 character from [#@$]\n",
    "4. Minimum length of transaction password: 6\n",
    "5. Maximum length of transaction password: 12\n",
    "\n",
    "Your program should accept a sequence of comma separated passwords and  will check them according to the above criteria. Passwords that match the criteria are to be printed, each separated by a comma.\n",
    "\n",
    "\n",
    "Example\n",
    "\n",
    "If the following passwords are given as input to the program:\n",
    "ABd1234@1,a F1#,2w3E*,2We3345\n",
    "Then, the output of the program should be:\n",
    "ABd1234@1"
   ]
  },
  {
   "cell_type": "code",
   "execution_count": 14,
   "metadata": {},
   "outputs": [],
   "source": [
    "import re\n",
    "def check_validity_of_password_(*args):\n",
    "    logging.info(args)\n",
    "    try:\n",
    "        vaild_passwd = []\n",
    "        for passwd_ in args:\n",
    "            try:\n",
    "                if len(passwd_) < 6 or len(passwd_) > 12:\n",
    "                    continue\n",
    "                elif not re.search('([a-z])+', passwd_):\n",
    "                    continue\n",
    "                elif not re.search('([A-Z])+', passwd_):\n",
    "                    continue\n",
    "                elif not re.search('([0-9])+', passwd_):\n",
    "                    continue\n",
    "                elif not re.search('([!@$%^&])+', passwd_):\n",
    "                    continue\n",
    "                else:\n",
    "                    if passwd_ not in vaild_passwd:\n",
    "                        vaild_passwd.append(passwd_)\n",
    "            except Exception as err:\n",
    "                logging.info('an error has occured!!')\n",
    "                logging.error(str(err))\n",
    "        return ' '.join(vaild_passwd)\n",
    "    \n",
    "    except Exception as err:\n",
    "        logging.info('an error has occured!!')\n",
    "        logging.error(str(err))\n",
    "    "
   ]
  },
  {
   "cell_type": "code",
   "execution_count": 15,
   "metadata": {},
   "outputs": [
    {
     "name": "stderr",
     "output_type": "stream",
     "text": [
      "2021-06-27 23:35:01,000 - ('ABd1234@1', 'a F1#', '2w3E*', '2We3345')\n"
     ]
    },
    {
     "data": {
      "text/plain": [
       "'ABd1234@1'"
      ]
     },
     "execution_count": 15,
     "metadata": {},
     "output_type": "execute_result"
    }
   ],
   "source": [
    "check_validity_of_password_('ABd1234@1','a F1#','2w3E*','2We3345')"
   ]
  },
  {
   "cell_type": "code",
   "execution_count": null,
   "metadata": {},
   "outputs": [],
   "source": []
  }
 ],
 "metadata": {
  "kernelspec": {
   "display_name": "Python 3",
   "language": "python",
   "name": "python3"
  },
  "language_info": {
   "codemirror_mode": {
    "name": "ipython",
    "version": 3
   },
   "file_extension": ".py",
   "mimetype": "text/x-python",
   "name": "python",
   "nbconvert_exporter": "python",
   "pygments_lexer": "ipython3",
   "version": "3.8.5"
  }
 },
 "nbformat": 4,
 "nbformat_minor": 4
}

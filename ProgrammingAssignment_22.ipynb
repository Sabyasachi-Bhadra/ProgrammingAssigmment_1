{
 "cells": [
  {
   "cell_type": "code",
   "execution_count": 7,
   "id": "9566c77a",
   "metadata": {},
   "outputs": [],
   "source": [
    "import time"
   ]
  },
  {
   "cell_type": "markdown",
   "id": "57a20463",
   "metadata": {},
   "source": [
    "- Question1\n",
    "- Create a function that takes three parameters where:\n",
    "1. x is the start of the range (inclusive).\n",
    "2. y is the end of the range (inclusive).\n",
    "3. n is the divisor to be checked against.\n",
    "- Return an ordered list with numbers in the range that are divisible by the third parameter n. Return an empty list if there are no numbers that are divisible by n."
   ]
  },
  {
   "cell_type": "code",
   "execution_count": 14,
   "id": "fbf0401e",
   "metadata": {},
   "outputs": [
    {
     "data": {
      "text/plain": [
       "[3, 6, 9]"
      ]
     },
     "execution_count": 14,
     "metadata": {},
     "output_type": "execute_result"
    }
   ],
   "source": [
    "def list_operation(x,y,n):\n",
    "    lst = []\n",
    "    try:\n",
    "        for element in range(x,y): \n",
    "            if element % n == 0:\n",
    "                lst.append(element)\n",
    "        return lst\n",
    "    except Exception as err:\n",
    "        print(\"an error has occured!!\")\n",
    "        print(str(err))  \n",
    "        \n",
    "list_operation(1,10,3)"
   ]
  },
  {
   "cell_type": "markdown",
   "id": "17458edc",
   "metadata": {},
   "source": [
    "- Question2\n",
    "- Create a function that takes in two lists and returns True if the second list follows the first list by one element, and False otherwise. In other words, determine if the second list is the first list shifted to the right by 1."
   ]
  },
  {
   "cell_type": "code",
   "execution_count": 9,
   "id": "9149af2c",
   "metadata": {},
   "outputs": [],
   "source": [
    "def simon_says(l1,l2):\n",
    "    result = False\n",
    "    try:\n",
    "        if len(l1) == len(l2):\n",
    "            if len(l1) >=2 and len(l2) >=2:\n",
    "                for x in l1:\n",
    "                    for y in l2:\n",
    "                        if x == y:\n",
    "                            result = True\n",
    "        \n",
    "    except Exception as err:\n",
    "        print(str(err))\n",
    "        \n",
    "    return result"
   ]
  },
  {
   "cell_type": "code",
   "execution_count": 12,
   "id": "2a53b756",
   "metadata": {},
   "outputs": [
    {
     "data": {
      "text/plain": [
       "False"
      ]
     },
     "execution_count": 12,
     "metadata": {},
     "output_type": "execute_result"
    }
   ],
   "source": [
    "list1 = [i for i in range(1,5)]\n",
    "list2 = [i for i in range(5,9)]\n",
    "simon_says(list1,list2)"
   ]
  },
  {
   "cell_type": "markdown",
   "id": "5fbada8c",
   "metadata": {},
   "source": [
    "- Question3\n",
    " - A group of friends have decided to start a secret society. The name will be the first letter of each of their names, sorted in alphabetical order. Create a function that takes in a list of names and returns the name of the secret society."
   ]
  },
  {
   "cell_type": "code",
   "execution_count": 33,
   "id": "84ade27e",
   "metadata": {},
   "outputs": [],
   "source": [
    "def society_name(lst):\n",
    "    lst_with_1st_ltr = []\n",
    "    \n",
    "    try:\n",
    "        for name in lst:\n",
    "            lst_with_1st_ltr.append(name[0])\n",
    "        \n",
    "        return ''.join(lst_with_1st_ltr)\n",
    "    \n",
    "    except Exception as err:\n",
    "        print(\"an error has occured!!\")\n",
    "        print(str(err))"
   ]
  },
  {
   "cell_type": "code",
   "execution_count": 34,
   "id": "0592ae5b",
   "metadata": {},
   "outputs": [
    {
     "data": {
      "text/plain": [
       "'SKC'"
      ]
     },
     "execution_count": 34,
     "metadata": {},
     "output_type": "execute_result"
    }
   ],
   "source": [
    "l = [\"Sabya\", \"Ken\", \"Cooper\"]\n",
    "society_name(l)"
   ]
  },
  {
   "cell_type": "markdown",
   "id": "baa7194f",
   "metadata": {},
   "source": [
    "- Question4\n",
    "- An isogram is a word that has no duplicate letters. Create a function that takes a string and returns either True or False depending on whether or not it&#39;s an &quot;isogram&quot;."
   ]
  },
  {
   "cell_type": "code",
   "execution_count": 49,
   "id": "e2e75724",
   "metadata": {},
   "outputs": [],
   "source": [
    "def is_isogram(word):\n",
    "    lst = []\n",
    "    result = True\n",
    "    try:\n",
    "        for ltr in word.lower():\n",
    "            if ltr.isalpha():\n",
    "                if ltr in lst:\n",
    "                    result =  False\n",
    "                lst.append(ltr)\n",
    "        return result\n",
    "    \n",
    "    except Exception as err:\n",
    "        print('an error has occured!!')\n",
    "        print(str(err))"
   ]
  },
  {
   "cell_type": "code",
   "execution_count": 51,
   "id": "d342e69b",
   "metadata": {},
   "outputs": [
    {
     "data": {
      "text/plain": [
       "False"
      ]
     },
     "execution_count": 51,
     "metadata": {},
     "output_type": "execute_result"
    }
   ],
   "source": [
    "is_isogram(\"PasSword\")"
   ]
  },
  {
   "cell_type": "markdown",
   "id": "0b942757",
   "metadata": {},
   "source": [
    "- Question5\n",
    "- Create a function that takes a string and returns True or False, depending on whether the characters are in order or not."
   ]
  },
  {
   "cell_type": "code",
   "execution_count": 60,
   "id": "682ce46d",
   "metadata": {},
   "outputs": [
    {
     "data": {
      "text/plain": [
       "['a', 'a', 'b', 's', 'y']"
      ]
     },
     "execution_count": 60,
     "metadata": {},
     "output_type": "execute_result"
    }
   ],
   "source": [
    "s ='sabya'\n",
    "n = len(s)\n",
    "s = [s[i] for i in range(len(s))]\n",
    "s.sort()\n",
    "s\n",
    "for i in range"
   ]
  },
  {
   "cell_type": "code",
   "execution_count": 61,
   "id": "cf3e8db2",
   "metadata": {},
   "outputs": [],
   "source": [
    "def is_in_order(word):\n",
    "    n = len(word)\n",
    "    lst = []\n",
    "    try:\n",
    "        for ltr in range(len(word)):\n",
    "            lst.append(ltr)\n",
    "        lst.sort(reverse=False)\n",
    "        \n",
    "        for i in range(n):\n",
    "            if lst[i] != n[i]:\n",
    "                return False\n",
    "        \n",
    "        return True\n",
    "    \n",
    "    except Exception as err:\n",
    "        print('an error has occured!!')\n",
    "        print(str(err))"
   ]
  },
  {
   "cell_type": "code",
   "execution_count": 62,
   "id": "11b2ea78",
   "metadata": {},
   "outputs": [
    {
     "name": "stdout",
     "output_type": "stream",
     "text": [
      "an error has occured!!\n",
      "'int' object is not subscriptable\n"
     ]
    }
   ],
   "source": [
    "is_in_order('edabit')"
   ]
  },
  {
   "cell_type": "code",
   "execution_count": null,
   "id": "c1bdb4c8",
   "metadata": {},
   "outputs": [],
   "source": []
  }
 ],
 "metadata": {
  "kernelspec": {
   "display_name": "Python 3",
   "language": "python",
   "name": "python3"
  },
  "language_info": {
   "codemirror_mode": {
    "name": "ipython",
    "version": 3
   },
   "file_extension": ".py",
   "mimetype": "text/x-python",
   "name": "python",
   "nbconvert_exporter": "python",
   "pygments_lexer": "ipython3",
   "version": "3.8.8"
  }
 },
 "nbformat": 4,
 "nbformat_minor": 5
}

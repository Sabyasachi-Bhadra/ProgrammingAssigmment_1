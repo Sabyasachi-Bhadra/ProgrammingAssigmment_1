{
 "cells": [
  {
   "cell_type": "markdown",
   "id": "652b13b8",
   "metadata": {},
   "source": [
    "- Question 1\n",
    " - Create a function that takes a number as an argument and returns True or False depending on whether the number is symmetrical or not. A number is symmetrical when it is the same as its reverse."
   ]
  },
  {
   "cell_type": "code",
   "execution_count": 14,
   "id": "7170c61c",
   "metadata": {},
   "outputs": [],
   "source": [
    "def reverse_num(num):\n",
    "    reverse = 0\n",
    "    try:\n",
    "        while num > 0:\n",
    "            digit = num % 10\n",
    "            reverse = reverse*10+digit\n",
    "            num = num // 10\n",
    "        return reverse    \n",
    "    except Exception as err:\n",
    "        print('an error occured!!')\n",
    "        print(str(err))\n",
    "\n",
    "def is_symmetrical(num):\n",
    "    try:\n",
    "        if num == reverse_num(num):\n",
    "            return True\n",
    "        else:\n",
    "            return False\n",
    "    except Exception as err:\n",
    "        print('an error occured!!')\n",
    "        print(str(err))\n",
    "        "
   ]
  },
  {
   "cell_type": "code",
   "execution_count": 19,
   "id": "d16feab6",
   "metadata": {},
   "outputs": [
    {
     "data": {
      "text/plain": [
       "False"
      ]
     },
     "execution_count": 19,
     "metadata": {},
     "output_type": "execute_result"
    }
   ],
   "source": [
    "is_symmetrical(9939)"
   ]
  },
  {
   "cell_type": "markdown",
   "id": "7fcfeabc",
   "metadata": {},
   "source": [
    "- Question 2\n",
    " - Given a string of numbers separated by a comma and space, return the product of the numbers."
   ]
  },
  {
   "cell_type": "code",
   "execution_count": 34,
   "id": "f9891b1f",
   "metadata": {},
   "outputs": [],
   "source": [
    "def multiply_nums(nums_str):\n",
    "    try:\n",
    "        num_list = nums_str.split(', ')\n",
    "        total = 1\n",
    "        for i in num_list:\n",
    "            total = total * int(i)\n",
    "        return total\n",
    "    except Exception as err:\n",
    "        print('an error occured!!')\n",
    "        print(str(err))"
   ]
  },
  {
   "cell_type": "code",
   "execution_count": 35,
   "id": "9f69f0a9",
   "metadata": {},
   "outputs": [
    {
     "data": {
      "text/plain": [
       "24"
      ]
     },
     "execution_count": 35,
     "metadata": {},
     "output_type": "execute_result"
    }
   ],
   "source": [
    "multiply_nums('1, 2, 3, 4')"
   ]
  },
  {
   "cell_type": "markdown",
   "id": "4bebf23d",
   "metadata": {},
   "source": [
    "- Question 3\n",
    "- Create a function that squares every digit of a number."
   ]
  },
  {
   "cell_type": "code",
   "execution_count": 72,
   "id": "2296d928",
   "metadata": {},
   "outputs": [],
   "source": [
    "def square_digits(number):\n",
    "    try:\n",
    "        str_num_list = list(str(number))\n",
    "        for digit in str_num_list:\n",
    "             print(int(digit)**2,end=\"\")\n",
    "        \n",
    "    except Exception as err:\n",
    "        print(str(err))"
   ]
  },
  {
   "cell_type": "code",
   "execution_count": 74,
   "id": "b9d090e3",
   "metadata": {},
   "outputs": [
    {
     "name": "stdout",
     "output_type": "stream",
     "text": [
      "811181"
     ]
    }
   ],
   "source": [
    "square_digits(9119)"
   ]
  },
  {
   "cell_type": "markdown",
   "id": "19fe3755",
   "metadata": {},
   "source": [
    "- Question 4\n",
    " - Create a function that sorts a list and removes all duplicate items from it."
   ]
  },
  {
   "cell_type": "code",
   "execution_count": 76,
   "id": "56d992ff",
   "metadata": {},
   "outputs": [],
   "source": [
    "lst = [1,4,5,78,3,4]\n",
    "lst.sort()"
   ]
  },
  {
   "cell_type": "code",
   "execution_count": 77,
   "id": "a6fc0230",
   "metadata": {},
   "outputs": [
    {
     "data": {
      "text/plain": [
       "[1, 3, 4, 4, 5, 78]"
      ]
     },
     "execution_count": 77,
     "metadata": {},
     "output_type": "execute_result"
    }
   ],
   "source": [
    "lst"
   ]
  },
  {
   "cell_type": "code",
   "execution_count": 85,
   "id": "b4497255",
   "metadata": {},
   "outputs": [],
   "source": [
    "def setify(lst):\n",
    "    try:\n",
    "        no_dup_lst = []\n",
    "        for element in lst:\n",
    "            if element not in no_dup_lst:\n",
    "                no_dup_lst.append(element)\n",
    "                \n",
    "        return sorted(no_dup_lst)\n",
    "    except Exception as err:\n",
    "        print(str(err))"
   ]
  },
  {
   "cell_type": "code",
   "execution_count": 86,
   "id": "80fe7579",
   "metadata": {},
   "outputs": [
    {
     "data": {
      "text/plain": [
       "[4]"
      ]
     },
     "execution_count": 86,
     "metadata": {},
     "output_type": "execute_result"
    }
   ],
   "source": [
    "setify([4, 4, 4, 4])"
   ]
  },
  {
   "cell_type": "code",
   "execution_count": 87,
   "id": "3385abe2",
   "metadata": {},
   "outputs": [
    {
     "data": {
      "text/plain": [
       "[1, 3, 5]"
      ]
     },
     "execution_count": 87,
     "metadata": {},
     "output_type": "execute_result"
    }
   ],
   "source": [
    "setify([1, 3, 3, 5, 5])"
   ]
  },
  {
   "cell_type": "markdown",
   "id": "afb405e9",
   "metadata": {},
   "source": [
    "- Question 5\n",
    " - Create a function that returns the mean of all digits."
   ]
  },
  {
   "cell_type": "code",
   "execution_count": 6,
   "id": "34da897d",
   "metadata": {},
   "outputs": [],
   "source": [
    "def mean(num):\n",
    "    try:\n",
    "        if num == 0:\n",
    "            return 0\n",
    "        else:\n",
    "            lst = []\n",
    "            while num>0:\n",
    "                lst.append(num%10)\n",
    "                num = num // 10\n",
    "            return sum(lst)/len(lst)\n",
    "    except Exception as err:\n",
    "        print('an error occured!!')\n",
    "        print(str(err))   "
   ]
  },
  {
   "cell_type": "code",
   "execution_count": 7,
   "id": "90f5fa78",
   "metadata": {},
   "outputs": [
    {
     "data": {
      "text/plain": [
       "3.0"
      ]
     },
     "execution_count": 7,
     "metadata": {},
     "output_type": "execute_result"
    }
   ],
   "source": [
    "mean(42)"
   ]
  },
  {
   "cell_type": "code",
   "execution_count": null,
   "id": "c38582bf",
   "metadata": {},
   "outputs": [],
   "source": []
  }
 ],
 "metadata": {
  "kernelspec": {
   "display_name": "Python 3",
   "language": "python",
   "name": "python3"
  },
  "language_info": {
   "codemirror_mode": {
    "name": "ipython",
    "version": 3
   },
   "file_extension": ".py",
   "mimetype": "text/x-python",
   "name": "python",
   "nbconvert_exporter": "python",
   "pygments_lexer": "ipython3",
   "version": "3.8.8"
  }
 },
 "nbformat": 4,
 "nbformat_minor": 5
}

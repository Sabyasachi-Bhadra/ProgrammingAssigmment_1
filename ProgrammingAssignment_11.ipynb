{
 "cells": [
  {
   "cell_type": "code",
   "execution_count": 19,
   "metadata": {},
   "outputs": [],
   "source": [
    "import os\n",
    "import logging"
   ]
  },
  {
   "cell_type": "code",
   "execution_count": 20,
   "metadata": {},
   "outputs": [],
   "source": [
    "if os.path.exists('assignment11.log'):\n",
    "    os.remove('assignment11.log')"
   ]
  },
  {
   "cell_type": "code",
   "execution_count": 21,
   "metadata": {},
   "outputs": [],
   "source": [
    "logging.basicConfig(filename = 'assignment11.log', level = logging.INFO, format = '%(asctime)s - %(message)s')"
   ]
  },
  {
   "cell_type": "code",
   "execution_count": 22,
   "metadata": {},
   "outputs": [
    {
     "name": "stderr",
     "output_type": "stream",
     "text": [
      "2021-06-22 16:09:47,948 - logging has started!!\n"
     ]
    }
   ],
   "source": [
    "console_log = logging.StreamHandler()\n",
    "console_log.setLevel(logging.DEBUG)\n",
    "format = logging.Formatter('%(asctime)s - %(message)s')\n",
    "console_log.setFormatter(format)\n",
    "logging.getLogger('').addHandler(console_log)\n",
    "logging.info('logging has started!!')"
   ]
  },
  {
   "cell_type": "markdown",
   "metadata": {},
   "source": [
    "1. Write a Python program to find words which are greater than given length k?"
   ]
  },
  {
   "cell_type": "code",
   "execution_count": 24,
   "metadata": {},
   "outputs": [],
   "source": [
    "def find_words_len_greater_K(str_, K):\n",
    "    logging.info(str_)\n",
    "    logging.info(K)\n",
    "    lst_ = []\n",
    "    words = str_.split(' ')\n",
    "    for i in words:\n",
    "        try:\n",
    "            if len(i) > K:\n",
    "                lst_.append(i)\n",
    "        except Exception as err:\n",
    "            logging.info('An error has occured!!')\n",
    "            logging.error(str(err))\n",
    "    return 'words greater than the length K = {0} are : {1}'.format(K, lst_)"
   ]
  },
  {
   "cell_type": "code",
   "execution_count": 25,
   "metadata": {},
   "outputs": [
    {
     "name": "stderr",
     "output_type": "stream",
     "text": [
      "2021-06-22 16:09:48,539 - This is a full stack data science course at iNeuron\n",
      "2021-06-22 16:09:48,541 - 3\n"
     ]
    },
    {
     "data": {
      "text/plain": [
       "\"words greater than the length K = 3 are : ['This', 'full', 'stack', 'data', 'science', 'course', 'iNeuron']\""
      ]
     },
     "execution_count": 25,
     "metadata": {},
     "output_type": "execute_result"
    }
   ],
   "source": [
    "find_words_len_greater_K('This is a full stack data science course at iNeuron', 3)"
   ]
  },
  {
   "cell_type": "markdown",
   "metadata": {},
   "source": [
    "2. Write a Python program for removing i-th character from a string?"
   ]
  },
  {
   "cell_type": "code",
   "execution_count": 26,
   "metadata": {},
   "outputs": [],
   "source": [
    "def remove_ith_character(str_, i):\n",
    "    logging.info(str_)\n",
    "    logging.info(i)\n",
    "    for j in range(len(str_)):\n",
    "        try:\n",
    "            if j == i:\n",
    "                str_ = str_.replace(str_[i], '')\n",
    "        except Excception as err:\n",
    "            logging.info('An error has occured!!')\n",
    "            logging.info(str(err))\n",
    "    return str_                "
   ]
  },
  {
   "cell_type": "code",
   "execution_count": 27,
   "metadata": {},
   "outputs": [
    {
     "name": "stderr",
     "output_type": "stream",
     "text": [
      "2021-06-22 16:09:48,946 - iNeuron.AI\n",
      "2021-06-22 16:09:48,948 - 7\n"
     ]
    },
    {
     "data": {
      "text/plain": [
       "'iNeuronAI'"
      ]
     },
     "execution_count": 27,
     "metadata": {},
     "output_type": "execute_result"
    }
   ],
   "source": [
    "remove_ith_character('iNeuron.AI', 7)"
   ]
  },
  {
   "cell_type": "markdown",
   "metadata": {},
   "source": [
    "3. Write a Python program to split and join a string?"
   ]
  },
  {
   "cell_type": "code",
   "execution_count": 28,
   "metadata": {},
   "outputs": [],
   "source": [
    "def split_str_(str_):\n",
    "    logging.info(str_)\n",
    "    try:\n",
    "        lst_ = str_.split(' ')\n",
    "    except Exception as err:\n",
    "        logging.info('An error has occured!!')\n",
    "        logging.info(str(err))\n",
    "    return lst_   "
   ]
  },
  {
   "cell_type": "code",
   "execution_count": 29,
   "metadata": {},
   "outputs": [],
   "source": [
    "def join_str_(lst_):\n",
    "    logging.info(lst_)\n",
    "    try:\n",
    "        str_ = ' '.join(lst_)\n",
    "    except Exception as err:\n",
    "        logging.info('An error has occured!!')\n",
    "        logging.error(str(err))\n",
    "    return str_"
   ]
  },
  {
   "cell_type": "code",
   "execution_count": 30,
   "metadata": {},
   "outputs": [
    {
     "name": "stderr",
     "output_type": "stream",
     "text": [
      "2021-06-22 16:09:49,514 - This is a full stack data science course at iNeuron\n"
     ]
    },
    {
     "name": "stdout",
     "output_type": "stream",
     "text": [
      "['This', 'is', 'a', 'full', 'stack', 'data', 'science', 'course', 'at', 'iNeuron']\n"
     ]
    }
   ],
   "source": [
    "lst_ = split_str_('This is a full stack data science course at iNeuron')\n",
    "print(lst_)"
   ]
  },
  {
   "cell_type": "code",
   "execution_count": 31,
   "metadata": {},
   "outputs": [
    {
     "name": "stderr",
     "output_type": "stream",
     "text": [
      "2021-06-22 16:09:49,650 - ['This', 'is', 'a', 'full', 'stack', 'data', 'science', 'course', 'at', 'iNeuron']\n"
     ]
    },
    {
     "data": {
      "text/plain": [
       "'This is a full stack data science course at iNeuron'"
      ]
     },
     "execution_count": 31,
     "metadata": {},
     "output_type": "execute_result"
    }
   ],
   "source": [
    "join_str_(lst_)"
   ]
  },
  {
   "cell_type": "markdown",
   "metadata": {},
   "source": [
    "4. Write a Python to check if a given string is binary string or not?"
   ]
  },
  {
   "cell_type": "code",
   "execution_count": 32,
   "metadata": {},
   "outputs": [
    {
     "data": {
      "text/plain": [
       "set"
      ]
     },
     "execution_count": 32,
     "metadata": {},
     "output_type": "execute_result"
    }
   ],
   "source": [
    "str_ = 'sabya'\n",
    "type(set(str_))"
   ]
  },
  {
   "cell_type": "code",
   "execution_count": 33,
   "metadata": {},
   "outputs": [],
   "source": [
    "def chek_if_binary_(str_):\n",
    "    logging.info(str_)\n",
    "    logging.info('converting string into a set of characters.... ')\n",
    "    s = set(str_)\n",
    "    logging.info(s)\n",
    "    logging.info('decalring a set with binary digit....')\n",
    "    s_ = {'0', '1'}\n",
    "    logging.info(s_)\n",
    "    try:\n",
    "        if s_ == s or s == {'0'} or s == {'1'}:\n",
    "            print('yes')\n",
    "        else:\n",
    "            print('no')\n",
    "    except Exception as err:\n",
    "        logging.info('an error has occured!!')\n",
    "        logging.error(str(err))"
   ]
  },
  {
   "cell_type": "code",
   "execution_count": 34,
   "metadata": {},
   "outputs": [
    {
     "name": "stderr",
     "output_type": "stream",
     "text": [
      "2021-06-22 16:09:53,146 - sabya\n",
      "2021-06-22 16:09:53,148 - converting string into a set of characters.... \n",
      "2021-06-22 16:09:53,150 - {'s', 'y', 'b', 'a'}\n",
      "2021-06-22 16:09:53,151 - decalring a set with binary digit....\n",
      "2021-06-22 16:09:53,153 - {'1', '0'}\n"
     ]
    },
    {
     "name": "stdout",
     "output_type": "stream",
     "text": [
      "no\n"
     ]
    }
   ],
   "source": [
    "chek_if_binary_('sabya')"
   ]
  },
  {
   "cell_type": "markdown",
   "metadata": {},
   "source": [
    "5. Write a Python program to find uncommon words from two Strings?"
   ]
  },
  {
   "cell_type": "code",
   "execution_count": 35,
   "metadata": {},
   "outputs": [],
   "source": [
    "def find_uncommon_words_from_(str1, str2):\n",
    "    logging.info('str1 : ' + str1)\n",
    "    logging.info('str2 : ' + str2)\n",
    "    count = {}\n",
    "    for ele_ in str1.split():\n",
    "        try:\n",
    "            count[ele_] = count.get(ele_,0) + 1\n",
    "        except Exception as err:\n",
    "            logging.info('an error has occured!!')\n",
    "            logging.error(str(err))\n",
    "    logging.info(count)\n",
    "    \n",
    "    for ele_ in str2.split():\n",
    "        try:\n",
    "            count[ele_] = count.get(ele_,0) + 1\n",
    "        except Exception as err:\n",
    "            logging.info('an error has occured!!')\n",
    "            logging.error(str(err))\n",
    "    logging.info(count)\n",
    "    \n",
    "    lst_ = []\n",
    "    for i in count:\n",
    "        try: \n",
    "            if count[i] == 1:\n",
    "                lst_.append(i)\n",
    "        except Exception as err:\n",
    "            logging.info('an error has occured!!')\n",
    "            logging.error(str(err))\n",
    "    \n",
    "    return lst_   "
   ]
  },
  {
   "cell_type": "code",
   "execution_count": 36,
   "metadata": {},
   "outputs": [
    {
     "name": "stderr",
     "output_type": "stream",
     "text": [
      "2021-06-22 16:09:55,931 - str1 : My name is Sabya\n",
      "2021-06-22 16:09:55,932 - str2 : Sabya loves AI\n",
      "2021-06-22 16:09:55,934 - {'My': 1, 'name': 1, 'is': 1, 'Sabya': 1}\n",
      "2021-06-22 16:09:55,936 - {'My': 1, 'name': 1, 'is': 1, 'Sabya': 2, 'loves': 1, 'AI': 1}\n"
     ]
    },
    {
     "data": {
      "text/plain": [
       "['My', 'name', 'is', 'loves', 'AI']"
      ]
     },
     "execution_count": 36,
     "metadata": {},
     "output_type": "execute_result"
    }
   ],
   "source": [
    "s = 'My name is Sabya'\n",
    "s1 = 'Sabya loves AI'\n",
    "find_uncommon_words_from_(s,s1)"
   ]
  },
  {
   "cell_type": "markdown",
   "metadata": {},
   "source": [
    "6. Write a Python to find all duplicate characters in string?"
   ]
  },
  {
   "cell_type": "code",
   "execution_count": 45,
   "metadata": {},
   "outputs": [],
   "source": [
    "def find_duplicate_from_(str_):\n",
    "    logging.info(str_)\n",
    "    dup = []\n",
    "    try:\n",
    "        for char in str_:\n",
    "            try:\n",
    "                if str_.count(char) > 1:\n",
    "                    if char not in dup:\n",
    "                        dup.append(char)\n",
    "            except Exception as err:\n",
    "                logging.info('an error has occured!!')\n",
    "                logging.error(str(err))\n",
    "    except Exception as err:\n",
    "        logging.info('an error has oocured!!')\n",
    "        logging.error(str(error))\n",
    "    \n",
    "    return dup        "
   ]
  },
  {
   "cell_type": "code",
   "execution_count": 46,
   "metadata": {},
   "outputs": [
    {
     "name": "stderr",
     "output_type": "stream",
     "text": [
      "2021-06-22 16:34:14,044 - iNeuron full stack data science\n"
     ]
    },
    {
     "data": {
      "text/plain": [
       "['i', 'e', 'u', 'n', ' ', 'l', 's', 't', 'a', 'c']"
      ]
     },
     "execution_count": 46,
     "metadata": {},
     "output_type": "execute_result"
    }
   ],
   "source": [
    "find_duplicate_from_('iNeuron full stack data science')"
   ]
  },
  {
   "cell_type": "markdown",
   "metadata": {},
   "source": [
    "7. Write a Python Program to check if a string contains any special character?"
   ]
  },
  {
   "cell_type": "code",
   "execution_count": 51,
   "metadata": {},
   "outputs": [],
   "source": [
    "import re\n",
    "def check_special_character(str_):\n",
    "    logging.info(str_)\n",
    "    try:\n",
    "        reg_ex = re.compile('[@_!#$%^&*()<>?/\\|}{~:]')\n",
    "        logging.info(reg_ex)\n",
    "        \n",
    "        if reg_ex.search(str_) == None:\n",
    "            return 'string does not contain any special character'\n",
    "        else:\n",
    "            return 'string contains special character'\n",
    "    except Exception as err:\n",
    "        logging.info('an error has occured!!')\n",
    "        logging.error(str(err))        "
   ]
  },
  {
   "cell_type": "code",
   "execution_count": 52,
   "metadata": {},
   "outputs": [
    {
     "name": "stderr",
     "output_type": "stream",
     "text": [
      "2021-06-22 23:28:48,622 - iNeuron_AI\n",
      "2021-06-22 23:28:48,624 - re.compile('[@_!#$%^&*()<>?/\\\\|}{~:]')\n"
     ]
    },
    {
     "data": {
      "text/plain": [
       "'string contains special character'"
      ]
     },
     "execution_count": 52,
     "metadata": {},
     "output_type": "execute_result"
    }
   ],
   "source": [
    "check_special_character('iNeuron_AI')"
   ]
  }
 ],
 "metadata": {
  "kernelspec": {
   "display_name": "Python 3",
   "language": "python",
   "name": "python3"
  },
  "language_info": {
   "codemirror_mode": {
    "name": "ipython",
    "version": 3
   },
   "file_extension": ".py",
   "mimetype": "text/x-python",
   "name": "python",
   "nbconvert_exporter": "python",
   "pygments_lexer": "ipython3",
   "version": "3.8.5"
  }
 },
 "nbformat": 4,
 "nbformat_minor": 4
}

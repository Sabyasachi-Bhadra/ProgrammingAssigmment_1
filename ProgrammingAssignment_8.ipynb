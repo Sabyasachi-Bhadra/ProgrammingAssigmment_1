{
 "cells": [
  {
   "cell_type": "code",
   "execution_count": 1,
   "metadata": {},
   "outputs": [],
   "source": [
    "import os\n",
    "import logging"
   ]
  },
  {
   "cell_type": "code",
   "execution_count": 2,
   "metadata": {},
   "outputs": [],
   "source": [
    "if os.path.exists('assignment8.log'):\n",
    "    os.remove('assignment8.log')"
   ]
  },
  {
   "cell_type": "code",
   "execution_count": 3,
   "metadata": {},
   "outputs": [],
   "source": [
    "logging.basicConfig(filename = 'assignment8.log', level = logging.INFO, format = '%(asctime)s - %(message)s')"
   ]
  },
  {
   "cell_type": "code",
   "execution_count": 4,
   "metadata": {},
   "outputs": [
    {
     "name": "stderr",
     "output_type": "stream",
     "text": [
      "2021-05-27 15:36:38,628 - logging has started!!\n"
     ]
    }
   ],
   "source": [
    "console_log = logging.StreamHandler()\n",
    "console_log.setLevel(logging.DEBUG)\n",
    "format = logging.Formatter('%(asctime)s - %(message)s')\n",
    "console_log.setFormatter(format)\n",
    "logging.getLogger('').addHandler(console_log)\n",
    "logging.info('logging has started!!')"
   ]
  },
  {
   "cell_type": "markdown",
   "metadata": {},
   "source": [
    "1. Write a Python Program to Add Two Matrices?"
   ]
  },
  {
   "cell_type": "code",
   "execution_count": 5,
   "metadata": {},
   "outputs": [],
   "source": [
    "def add_two_mat(X,Y):\n",
    "    try:\n",
    "        X_Add_Y = [[0, 0, 0],[0, 0, 0],[0, 0, 0]]\n",
    "        logging.info(str(X)+';'+str(Y))\n",
    "        for i in range(len(X)):\n",
    "            for j in range(len(X[0])):\n",
    "                X_Add_Y[i][j] = X[i][j] +Y[i][j]\n",
    "        logging.info('Addition executed!!')\n",
    "        \n",
    "        lst = []\n",
    "        for result in X_Add_Y:\n",
    "            lst.append(result)\n",
    "        return lst\n",
    "    except Exception as err:\n",
    "        logging.info('An error has occured!!')\n",
    "        logging.error(str(err))    "
   ]
  },
  {
   "cell_type": "code",
   "execution_count": 6,
   "metadata": {},
   "outputs": [
    {
     "name": "stderr",
     "output_type": "stream",
     "text": [
      "2021-05-27 15:36:40,850 - [[1, 2, 3], [4, 5, 6], [7, 8, 9]];[[9, 8, 7], [6, 5, 4], [3, 2, 1]]\n",
      "2021-05-27 15:36:40,852 - Addition executed!!\n"
     ]
    },
    {
     "data": {
      "text/plain": [
       "[[10, 10, 10], [10, 10, 10], [10, 10, 10]]"
      ]
     },
     "execution_count": 6,
     "metadata": {},
     "output_type": "execute_result"
    }
   ],
   "source": [
    "A = [[1,2,3],\n",
    "    [4 ,5,6],\n",
    "    [7 ,8,9]]\n",
    " \n",
    "B = [[9,8,7],\n",
    "    [6,5,4],\n",
    "    [3,2,1]]\n",
    "add_two_mat(A,B)"
   ]
  },
  {
   "cell_type": "markdown",
   "metadata": {},
   "source": [
    "2. Write a Python Program to Multiply Two Matrices?"
   ]
  },
  {
   "cell_type": "code",
   "execution_count": 7,
   "metadata": {},
   "outputs": [],
   "source": [
    "def multiply_two_mat(X,Y):\n",
    "    try:\n",
    "        logging.info(str(X)+';'+str(Y))\n",
    "        \n",
    "        XY = [[sum(i*j for i,j in zip(X_row,Y_col))\n",
    "          for Y_col in zip(*Y)]\n",
    "            for X_row in X]\n",
    "        logging.info('Multiplication executed!!')\n",
    "    except Exception as err:\n",
    "        logging.info('An error nhas occured!!')\n",
    "        logging.error(str(err))\n",
    "    finally:\n",
    "        lst = []\n",
    "        for i in XY:\n",
    "            lst.append(i)\n",
    "        return lst"
   ]
  },
  {
   "cell_type": "code",
   "execution_count": 8,
   "metadata": {},
   "outputs": [
    {
     "name": "stderr",
     "output_type": "stream",
     "text": [
      "2021-05-27 15:36:45,090 - [[12, 7, 3], [4, 5, 6], [7, 8, 9]];[[5, 8, 1, 2], [6, 7, 3, 0], [4, 5, 9, 1]]\n",
      "2021-05-27 15:36:45,092 - Multiplication executed!!\n"
     ]
    },
    {
     "data": {
      "text/plain": [
       "[[114, 160, 60, 27], [74, 97, 73, 14], [119, 157, 112, 23]]"
      ]
     },
     "execution_count": 8,
     "metadata": {},
     "output_type": "execute_result"
    }
   ],
   "source": [
    "# take a 3x3 matrix\n",
    "A = [[12, 7, 3],\n",
    "    [4, 5, 6],\n",
    "    [7, 8, 9]]\n",
    "  \n",
    "# take a 3x4 matrix\n",
    "B = [[5, 8, 1, 2],\n",
    "    [6, 7, 3, 0],\n",
    "    [4, 5, 9, 1]]\n",
    "multiply_two_mat(A,B)"
   ]
  },
  {
   "cell_type": "markdown",
   "metadata": {},
   "source": [
    "3. Write a Python Program to Transpose a Matrix?"
   ]
  },
  {
   "cell_type": "code",
   "execution_count": 9,
   "metadata": {},
   "outputs": [],
   "source": [
    "def transpose_mat(X):\n",
    "    try:\n",
    "        logging.info(str(X))\n",
    "        X_tran = [[X[j][i] for j in range(len(X[0]))] for i in range(len(X))]\n",
    "        logging.info(\"Successfully executed!!\")\n",
    "    except Exception as err:\n",
    "        logging.info(\"An error has occured!!\")\n",
    "        logging.error(str(err))\n",
    "    finally:\n",
    "        lst = []\n",
    "        for i in X_tran:\n",
    "            lst.append(i)\n",
    "        return lst        "
   ]
  },
  {
   "cell_type": "code",
   "execution_count": 10,
   "metadata": {},
   "outputs": [
    {
     "name": "stderr",
     "output_type": "stream",
     "text": [
      "2021-05-27 15:37:19,492 - [[12, 7, 3], [4, 5, 6], [7, 8, 9]]\n",
      "2021-05-27 15:37:19,494 - Successfully executed!!\n"
     ]
    },
    {
     "data": {
      "text/plain": [
       "[[12, 4, 7], [7, 5, 8], [3, 6, 9]]"
      ]
     },
     "execution_count": 10,
     "metadata": {},
     "output_type": "execute_result"
    }
   ],
   "source": [
    "A = [[12, 7, 3],\n",
    "    [4, 5, 6],\n",
    "    [7, 8, 9]]\n",
    "transpose_mat(A)"
   ]
  },
  {
   "cell_type": "markdown",
   "metadata": {},
   "source": [
    "4. Write a Python Program to Sort Words in Alphabetic Order?"
   ]
  },
  {
   "cell_type": "code",
   "execution_count": 12,
   "metadata": {},
   "outputs": [],
   "source": [
    "def sort_words_alphabetically(my_str):\n",
    "    try:\n",
    "        logging.info(my_str)\n",
    "        word = [i.lower() for i in my_str.split()]\n",
    "        word.sort()\n",
    "        logging.info('Words are sorted!!')\n",
    "    except Exception as err:\n",
    "        logging.info('An error has occured!!')\n",
    "        logging.error(str(err))\n",
    "    finally:\n",
    "        for i in word:\n",
    "            print(i)"
   ]
  },
  {
   "cell_type": "code",
   "execution_count": 13,
   "metadata": {},
   "outputs": [
    {
     "name": "stderr",
     "output_type": "stream",
     "text": [
      "2021-05-27 15:38:22,683 - Hello this is an example of sorting words alphabeticailly\n",
      "2021-05-27 15:38:22,685 - Words are sorted!!\n"
     ]
    },
    {
     "name": "stdout",
     "output_type": "stream",
     "text": [
      "alphabeticailly\n",
      "an\n",
      "example\n",
      "hello\n",
      "is\n",
      "of\n",
      "sorting\n",
      "this\n",
      "words\n"
     ]
    }
   ],
   "source": [
    "my_str = \"Hello this is an example of sorting words alphabeticailly\"\n",
    "sort_words_alphabetically(my_str)"
   ]
  },
  {
   "cell_type": "markdown",
   "metadata": {},
   "source": [
    "5. Write a Python Program to Remove Punctuation From a String?"
   ]
  },
  {
   "cell_type": "code",
   "execution_count": 14,
   "metadata": {},
   "outputs": [],
   "source": [
    "def remove_punctuation(my_str):\n",
    "    try:\n",
    "        logging.info(my_str)\n",
    "        punctuaion = '''!()-[]{};:'\"\\,<>./?@#$%^&*_~'''\n",
    "        no_punctuations = ''\n",
    "        for char in my_str:\n",
    "            if char not in punctuaion:\n",
    "                no_punctuations += char\n",
    "        logging.info('All punctuations removed successfully!!')\n",
    "    except Exception as err:\n",
    "        logging.info('An error has occured!!')\n",
    "        logging.err(str(err))\n",
    "    finally:\n",
    "        return no_punctuations"
   ]
  },
  {
   "cell_type": "code",
   "execution_count": 15,
   "metadata": {},
   "outputs": [
    {
     "name": "stderr",
     "output_type": "stream",
     "text": [
      "2021-05-27 15:38:47,737 - Hello!!, This is an example ---that how to remove @punctuation.\n",
      "2021-05-27 15:38:47,739 - All punctuations removed successfully!!\n"
     ]
    },
    {
     "data": {
      "text/plain": [
       "'Hello This is an example that how to remove punctuation'"
      ]
     },
     "execution_count": 15,
     "metadata": {},
     "output_type": "execute_result"
    }
   ],
   "source": [
    "my_str = \"Hello!!, This is an example ---that how to remove @punctuation.\"\n",
    "remove_punctuation(my_str)"
   ]
  }
 ],
 "metadata": {
  "kernelspec": {
   "display_name": "Python 3",
   "language": "python",
   "name": "python3"
  },
  "language_info": {
   "codemirror_mode": {
    "name": "ipython",
    "version": 3
   },
   "file_extension": ".py",
   "mimetype": "text/x-python",
   "name": "python",
   "nbconvert_exporter": "python",
   "pygments_lexer": "ipython3",
   "version": "3.8.5"
  }
 },
 "nbformat": 4,
 "nbformat_minor": 4
}

{
 "cells": [
  {
   "cell_type": "code",
   "execution_count": 1,
   "metadata": {},
   "outputs": [],
   "source": [
    "import os\n",
    "import logging\n",
    "if os.path.exists('file.log'):\n",
    "    os.remove('file.log')"
   ]
  },
  {
   "cell_type": "code",
   "execution_count": 2,
   "metadata": {},
   "outputs": [],
   "source": [
    "logging.basicConfig(filename = 'file.log', level = logging.INFO, format = '%(asctime)s - %(message)s')"
   ]
  },
  {
   "cell_type": "code",
   "execution_count": 3,
   "metadata": {},
   "outputs": [
    {
     "name": "stderr",
     "output_type": "stream",
     "text": [
      "2021-07-06 18:01:18,506 - logging has started!!\n"
     ]
    }
   ],
   "source": [
    "console_log = logging.StreamHandler()\n",
    "console_log.setLevel(logging.DEBUG)\n",
    "format = logging.Formatter('%(asctime)s - %(message)s')\n",
    "console_log.setFormatter(format)\n",
    "logging.getLogger('').addHandler(console_log)\n",
    "logging.info('logging has started!!')"
   ]
  },
  {
   "cell_type": "markdown",
   "metadata": {},
   "source": [
    "- Question1\n",
    "- Create a function that takes a list of strings and integers, and filters out the list so that it returns a list of integers only."
   ]
  },
  {
   "cell_type": "code",
   "execution_count": 4,
   "metadata": {},
   "outputs": [],
   "source": [
    "def filter_list(lst):\n",
    "    logging.info(lst)\n",
    "    int_lst = []\n",
    "    try:\n",
    "        for i in lst:\n",
    "            if type(i) == int:\n",
    "                int_lst.append(i)\n",
    "    except Exception as err:\n",
    "        logging.info('an error has occured!!')\n",
    "        logging.error(str(err))\n",
    "    return int_lst"
   ]
  },
  {
   "cell_type": "code",
   "execution_count": 5,
   "metadata": {},
   "outputs": [
    {
     "name": "stderr",
     "output_type": "stream",
     "text": [
      "2021-07-06 18:01:18,972 - [1, 2, 3, 'a', 'b', 4]\n"
     ]
    },
    {
     "data": {
      "text/plain": [
       "[1, 2, 3, 4]"
      ]
     },
     "execution_count": 5,
     "metadata": {},
     "output_type": "execute_result"
    }
   ],
   "source": [
    "filter_list([1, 2, 3, \"a\", \"b\", 4])"
   ]
  },
  {
   "cell_type": "markdown",
   "metadata": {},
   "source": [
    "- Question2\n",
    "- Given a list of numbers, create a function which returns the list but with each element's index in the list added to itself. This means you add 0 to the number at index 0, add 1 to the number at index 1, etc..."
   ]
  },
  {
   "cell_type": "code",
   "execution_count": 6,
   "metadata": {},
   "outputs": [
    {
     "name": "stderr",
     "output_type": "stream",
     "text": [
      "2021-07-06 18:01:19,278 - [5, 4, 3, 2, 1]\n"
     ]
    },
    {
     "data": {
      "text/plain": [
       "[5, 5, 5, 5, 5]"
      ]
     },
     "execution_count": 6,
     "metadata": {},
     "output_type": "execute_result"
    }
   ],
   "source": [
    "def add_indexes(lst):\n",
    "    logging.info(lst)\n",
    "    new_lst = []\n",
    "    try:\n",
    "        for index in range(len(lst)):\n",
    "            new_lst.append(index+lst[index])\n",
    "    except Exception as err:\n",
    "        logging.info('an error has occured!!')\n",
    "        logging.error(str(err))\n",
    "    return new_lst\n",
    "\n",
    "add_indexes([5,4,3,2,1])"
   ]
  },
  {
   "cell_type": "markdown",
   "metadata": {},
   "source": [
    "- Question3\n",
    "- Create a function that takes the height and radius of a cone as arguments and returns the volume of the cone rounded to the nearest hundredth. See the resources tab for the formula."
   ]
  },
  {
   "cell_type": "code",
   "execution_count": 7,
   "metadata": {},
   "outputs": [
    {
     "name": "stderr",
     "output_type": "stream",
     "text": [
      "2021-07-06 18:01:19,575 - height : 3; radius : 2\n"
     ]
    },
    {
     "data": {
      "text/plain": [
       "12.57"
      ]
     },
     "execution_count": 7,
     "metadata": {},
     "output_type": "execute_result"
    }
   ],
   "source": [
    "from math import pi\n",
    "def cone_volume(h, r):\n",
    "    logging.info('height : '+str(h)+'; radius : '+str(r))\n",
    "    try:\n",
    "        vol = (pi * r * r * h)/3\n",
    "    except Exception as err:\n",
    "        logging.info('an error has occured!!')\n",
    "        logging.error(str(err))\n",
    "    return round(vol,2)\n",
    "\n",
    "cone_volume(3,2)"
   ]
  },
  {
   "cell_type": "code",
   "execution_count": 8,
   "metadata": {},
   "outputs": [
    {
     "name": "stderr",
     "output_type": "stream",
     "text": [
      "2021-07-06 18:01:19,733 - height : 18; radius : 0\n"
     ]
    },
    {
     "data": {
      "text/plain": [
       "0.0"
      ]
     },
     "execution_count": 8,
     "metadata": {},
     "output_type": "execute_result"
    }
   ],
   "source": [
    "cone_volume(18,0)"
   ]
  },
  {
   "cell_type": "markdown",
   "metadata": {},
   "source": [
    "- Question4\n",
    "- This Triangular Number Sequence is generated from a pattern of dots that form a triangle. The first 5 numbers of the sequence, or dots, are: 1,3,6,10,15"
   ]
  },
  {
   "cell_type": "code",
   "execution_count": 9,
   "metadata": {},
   "outputs": [],
   "source": [
    "def triangle(n):\n",
    "    logging.info('n:'+str(n))\n",
    "    j = 0\n",
    "    k = 0\n",
    "    try:\n",
    "        for i in range(1,n+1):\n",
    "            j = j + 1\n",
    "            k = k + j\n",
    "        return k\n",
    "    except Exception as err:\n",
    "        logging.info('an error has occured!!')\n",
    "        logging.error(str(err))"
   ]
  },
  {
   "cell_type": "code",
   "execution_count": 10,
   "metadata": {},
   "outputs": [
    {
     "name": "stderr",
     "output_type": "stream",
     "text": [
      "2021-07-06 18:01:20,186 - n:6\n"
     ]
    },
    {
     "data": {
      "text/plain": [
       "21"
      ]
     },
     "execution_count": 10,
     "metadata": {},
     "output_type": "execute_result"
    }
   ],
   "source": [
    "triangle(6)"
   ]
  },
  {
   "cell_type": "markdown",
   "metadata": {},
   "source": [
    "- Question5\n",
    "- Create a function that takes a list of numbers between 1 and 10 (excluding one number) and returns the missing number."
   ]
  },
  {
   "cell_type": "code",
   "execution_count": 11,
   "metadata": {},
   "outputs": [],
   "source": [
    "def missing_num(lst):\n",
    "    logging.info(lst)\n",
    "    n = len(lst)\n",
    "    try:\n",
    "        total_sum = (n+1)*(n+2)/2\n",
    "        sum_of_lst = sum(lst)\n",
    "        missing_num = total_sum - sum_of_lst\n",
    "    except Exception as err:\n",
    "        logging.info('an error has occured!!')\n",
    "        logging.error(str(err))\n",
    "    return round(missing_num)"
   ]
  },
  {
   "cell_type": "code",
   "execution_count": 12,
   "metadata": {},
   "outputs": [
    {
     "name": "stderr",
     "output_type": "stream",
     "text": [
      "2021-07-06 18:01:20,633 - [1, 2, 3, 4, 6, 7, 8, 9, 10]\n"
     ]
    },
    {
     "data": {
      "text/plain": [
       "5"
      ]
     },
     "execution_count": 12,
     "metadata": {},
     "output_type": "execute_result"
    }
   ],
   "source": [
    "missing_num([1, 2, 3, 4, 6, 7, 8, 9, 10])"
   ]
  },
  {
   "cell_type": "code",
   "execution_count": 13,
   "metadata": {},
   "outputs": [
    {
     "name": "stderr",
     "output_type": "stream",
     "text": [
      "2021-07-06 18:01:20,776 - [1, 2, 3, 4, 6, 7, 8, 9]\n",
      "2021-07-06 18:01:20,778 - computing xor for all elements in the list...\n",
      "2021-07-06 18:01:20,779 - i:1 xor:1\n",
      "2021-07-06 18:01:20,780 - i:2 xor:3\n",
      "2021-07-06 18:01:20,782 - i:3 xor:0\n",
      "2021-07-06 18:01:20,783 - i:4 xor:4\n",
      "2021-07-06 18:01:20,785 - i:6 xor:2\n",
      "2021-07-06 18:01:20,786 - i:7 xor:5\n",
      "2021-07-06 18:01:20,787 - i:8 xor:13\n",
      "2021-07-06 18:01:20,789 - i:9 xor:4\n",
      "2021-07-06 18:01:20,790 - computing xor for all the elements from 1 to (n+1)...\n",
      "2021-07-06 18:01:20,792 - i:1 xor:5\n",
      "2021-07-06 18:01:20,793 - i:2 xor:7\n",
      "2021-07-06 18:01:20,794 - i:3 xor:4\n",
      "2021-07-06 18:01:20,796 - i:4 xor:0\n",
      "2021-07-06 18:01:20,797 - i:5 xor:5\n",
      "2021-07-06 18:01:20,798 - i:6 xor:3\n",
      "2021-07-06 18:01:20,800 - i:7 xor:4\n",
      "2021-07-06 18:01:20,802 - i:8 xor:12\n",
      "2021-07-06 18:01:20,804 - i:9 xor:5\n"
     ]
    },
    {
     "data": {
      "text/plain": [
       "5"
      ]
     },
     "execution_count": 13,
     "metadata": {},
     "output_type": "execute_result"
    }
   ],
   "source": [
    "def missing_num1(lst):\n",
    "    logging.info(lst)\n",
    "    xor = 0\n",
    "    try:\n",
    "        logging.info('computing xor for all elements in the list...')\n",
    "        for i in lst:\n",
    "            xor = xor^i\n",
    "            logging.info('i:'+str(i)+' xor:'+str(xor))\n",
    "        \n",
    "        logging.info('computing xor for all the elements from 1 to (n+1)...')\n",
    "        for i in range(1,len(lst)+2):\n",
    "            xor = xor^i\n",
    "            logging.info('i:'+str(i)+' xor:'+str(xor))\n",
    "    \n",
    "    except Exception as err:\n",
    "        logging.info('an error has occured!!')\n",
    "        logging.error(str(err))\n",
    "    \n",
    "    return xor\n",
    "missing_num1([1,2,3,4,6,7,8,9])"
   ]
  },
  {
   "cell_type": "markdown",
   "metadata": {},
   "source": []
  },
  {
   "cell_type": "code",
   "execution_count": null,
   "metadata": {},
   "outputs": [],
   "source": []
  },
  {
   "cell_type": "code",
   "execution_count": null,
   "metadata": {},
   "outputs": [],
   "source": []
  },
  {
   "cell_type": "code",
   "execution_count": null,
   "metadata": {},
   "outputs": [],
   "source": []
  }
 ],
 "metadata": {
  "kernelspec": {
   "display_name": "Python 3",
   "language": "python",
   "name": "python3"
  },
  "language_info": {
   "codemirror_mode": {
    "name": "ipython",
    "version": 3
   },
   "file_extension": ".py",
   "mimetype": "text/x-python",
   "name": "python",
   "nbconvert_exporter": "python",
   "pygments_lexer": "ipython3",
   "version": "3.8.5"
  }
 },
 "nbformat": 4,
 "nbformat_minor": 4
}

{
 "cells": [
  {
   "cell_type": "markdown",
   "metadata": {},
   "source": [
    "1. Write a Python Program to Check if a Number is Positive, Negative or Zero?"
   ]
  },
  {
   "cell_type": "code",
   "execution_count": 1,
   "metadata": {},
   "outputs": [
    {
     "name": "stdout",
     "output_type": "stream",
     "text": [
      "Enter the number : 4\n",
      "The given number is +(ve)\n"
     ]
    }
   ],
   "source": [
    "# Take the user input\n",
    "num = float(input(\"Enter the number : \"))\n",
    "\n",
    "if num > 0 :\n",
    "  print(\"The given number is +(ve)\")\n",
    "elif num == 0 :\n",
    "  print(\"The given number is zero\")\n",
    "else:\n",
    "  print(\"The given nuber is -(ve)\")"
   ]
  },
  {
   "cell_type": "markdown",
   "metadata": {},
   "source": [
    "2. Write a Python Program to Check if a Number is Odd or Even?"
   ]
  },
  {
   "cell_type": "code",
   "execution_count": 2,
   "metadata": {},
   "outputs": [
    {
     "name": "stdout",
     "output_type": "stream",
     "text": [
      "Enter the number : 5\n",
      "The given number 5.0 is an odd number\n"
     ]
    }
   ],
   "source": [
    "# Take the user input\n",
    "num = float(input(\"Enter the number : \"))\n",
    "\n",
    "if num % 2 == 0:\n",
    "  print(\"The given number {0} is an even number\".format(num))\n",
    "else:\n",
    "  print(\"The given number {0} is an odd number\".format(num))"
   ]
  },
  {
   "cell_type": "markdown",
   "metadata": {},
   "source": [
    "3. Write a Python Program to Check Leap Year?\n",
    "- We call a year leap year if that year is divisible by 4 except the century year (e.g. 1800, 1900, 2000). In case of century years, we call them leap year if that particular year is divisible by 400."
   ]
  },
  {
   "cell_type": "code",
   "execution_count": 3,
   "metadata": {},
   "outputs": [
    {
     "name": "stdout",
     "output_type": "stream",
     "text": [
      "Enter the year : 2600\n",
      "The given year 2600 is not a leap year\n"
     ]
    }
   ],
   "source": [
    "\n",
    "# Take the user input\n",
    "year = int(input(\"Enter the year : \"))\n",
    "\n",
    "# Check if that given year is leap year or not\n",
    "if year % 4 == 0 :\n",
    "  if year % 100 == 0 :\n",
    "    if year % 400 == 0:\n",
    "      print(\"The given year {0} is a leap year\".format(year))\n",
    "    else:\n",
    "      print(\"The given year {0} is not a leap year\".format(year))\n",
    "  else:\n",
    "    print(\"The given year {0} is a leap year\".format(year))\n",
    "else:\n",
    "  (\"The given year {0} is not a leap year\".format(year))"
   ]
  },
  {
   "cell_type": "markdown",
   "metadata": {},
   "source": [
    "4. Write a Python Program to Check Prime Number?\n",
    " - We call a number prime if that number is divisible by 1 and itself only.\n",
    " - Whether a given number is prime or not, we will proceed as follows,"
   ]
  },
  {
   "cell_type": "code",
   "execution_count": 11,
   "metadata": {},
   "outputs": [
    {
     "name": "stdout",
     "output_type": "stream",
     "text": [
      "Enter the num : 5\n",
      "The given number 5 is a prime number.\n",
      "close the issue\n"
     ]
    }
   ],
   "source": [
    "try:\n",
    "  # Take the user input\n",
    "  num = int(input(\"Enter the num : \"))\n",
    "except ValueError as e:\n",
    "    print(\"There is an issue with the user input\", e)\n",
    "else:\n",
    "    if num > 1:\n",
    "        for i in range(2,num):\n",
    "            if num % i == 0:\n",
    "                print(\"The given number {0} is not a prime number.\".format(num))\n",
    "                break\n",
    "        else:\n",
    "            print(\"The given number {0} is a prime number.\".format(num))\n",
    "    else:\n",
    "        print(\"The given number {0} is not a prime number.\".format(num))\n",
    "finally:\n",
    "    print(\"close the issue\")\n"
   ]
  },
  {
   "cell_type": "markdown",
   "metadata": {},
   "source": [
    "5. Write a Python Program to Print all Prime Numbers in an Interval of 1-10000?"
   ]
  },
  {
   "cell_type": "code",
   "execution_count": 31,
   "metadata": {},
   "outputs": [
    {
     "name": "stdout",
     "output_type": "stream",
     "text": [
      "Enter the lower bound : 100\n",
      "Enter the upper bound : 200\n",
      "Prime numbers between 100 and 200 are:\n",
      " 199\n",
      "Prime numbers between 100 and 200 are:\n",
      " 101\n",
      "Prime numbers between 100 and 200 are:\n",
      " 101\n",
      "Prime numbers between 100 and 200 are:\n",
      " 103\n",
      "Prime numbers between 100 and 200 are:\n",
      " 103\n",
      "Prime numbers between 100 and 200 are:\n",
      " 103\n",
      "Prime numbers between 100 and 200 are:\n",
      " 103\n",
      "Prime numbers between 100 and 200 are:\n",
      " 107\n",
      "Prime numbers between 100 and 200 are:\n",
      " 107\n",
      "Prime numbers between 100 and 200 are:\n",
      " 109\n",
      "Prime numbers between 100 and 200 are:\n",
      " 109\n",
      "Prime numbers between 100 and 200 are:\n",
      " 109\n",
      "Prime numbers between 100 and 200 are:\n",
      " 109\n",
      "Prime numbers between 100 and 200 are:\n",
      " 113\n",
      "Prime numbers between 100 and 200 are:\n",
      " 113\n",
      "Prime numbers between 100 and 200 are:\n",
      " 113\n",
      "Prime numbers between 100 and 200 are:\n",
      " 113\n",
      "Prime numbers between 100 and 200 are:\n",
      " 113\n",
      "Prime numbers between 100 and 200 are:\n",
      " 113\n",
      "Prime numbers between 100 and 200 are:\n",
      " 113\n",
      "Prime numbers between 100 and 200 are:\n",
      " 113\n",
      "Prime numbers between 100 and 200 are:\n",
      " 113\n",
      "Prime numbers between 100 and 200 are:\n",
      " 113\n",
      "Prime numbers between 100 and 200 are:\n",
      " 113\n",
      "Prime numbers between 100 and 200 are:\n",
      " 113\n",
      "Prime numbers between 100 and 200 are:\n",
      " 113\n",
      "Prime numbers between 100 and 200 are:\n",
      " 113\n",
      "Prime numbers between 100 and 200 are:\n",
      " 127\n",
      "Prime numbers between 100 and 200 are:\n",
      " 127\n",
      "Prime numbers between 100 and 200 are:\n",
      " 127\n",
      "Prime numbers between 100 and 200 are:\n",
      " 127\n",
      "Prime numbers between 100 and 200 are:\n",
      " 131\n",
      "Prime numbers between 100 and 200 are:\n",
      " 131\n",
      "Prime numbers between 100 and 200 are:\n",
      " 131\n",
      "Prime numbers between 100 and 200 are:\n",
      " 131\n",
      "Prime numbers between 100 and 200 are:\n",
      " 131\n",
      "Prime numbers between 100 and 200 are:\n",
      " 131\n",
      "Prime numbers between 100 and 200 are:\n",
      " 137\n",
      "Prime numbers between 100 and 200 are:\n",
      " 137\n",
      "Prime numbers between 100 and 200 are:\n",
      " 139\n",
      "Prime numbers between 100 and 200 are:\n",
      " 139\n",
      "Prime numbers between 100 and 200 are:\n",
      " 139\n",
      "Prime numbers between 100 and 200 are:\n",
      " 139\n",
      "Prime numbers between 100 and 200 are:\n",
      " 139\n",
      "Prime numbers between 100 and 200 are:\n",
      " 139\n",
      "Prime numbers between 100 and 200 are:\n",
      " 139\n",
      "Prime numbers between 100 and 200 are:\n",
      " 139\n",
      "Prime numbers between 100 and 200 are:\n",
      " 139\n",
      "Prime numbers between 100 and 200 are:\n",
      " 139\n",
      "Prime numbers between 100 and 200 are:\n",
      " 149\n",
      "Prime numbers between 100 and 200 are:\n",
      " 149\n",
      "Prime numbers between 100 and 200 are:\n",
      " 151\n",
      "Prime numbers between 100 and 200 are:\n",
      " 151\n",
      "Prime numbers between 100 and 200 are:\n",
      " 151\n",
      "Prime numbers between 100 and 200 are:\n",
      " 151\n",
      "Prime numbers between 100 and 200 are:\n",
      " 151\n",
      "Prime numbers between 100 and 200 are:\n",
      " 151\n",
      "Prime numbers between 100 and 200 are:\n",
      " 157\n",
      "Prime numbers between 100 and 200 are:\n",
      " 157\n",
      "Prime numbers between 100 and 200 are:\n",
      " 157\n",
      "Prime numbers between 100 and 200 are:\n",
      " 157\n",
      "Prime numbers between 100 and 200 are:\n",
      " 157\n",
      "Prime numbers between 100 and 200 are:\n",
      " 157\n",
      "Prime numbers between 100 and 200 are:\n",
      " 163\n",
      "Prime numbers between 100 and 200 are:\n",
      " 163\n",
      "Prime numbers between 100 and 200 are:\n",
      " 163\n",
      "Prime numbers between 100 and 200 are:\n",
      " 163\n",
      "Prime numbers between 100 and 200 are:\n",
      " 167\n",
      "Prime numbers between 100 and 200 are:\n",
      " 167\n",
      "Prime numbers between 100 and 200 are:\n",
      " 167\n",
      "Prime numbers between 100 and 200 are:\n",
      " 167\n",
      "Prime numbers between 100 and 200 are:\n",
      " 167\n",
      "Prime numbers between 100 and 200 are:\n",
      " 167\n",
      "Prime numbers between 100 and 200 are:\n",
      " 173\n",
      "Prime numbers between 100 and 200 are:\n",
      " 173\n",
      "Prime numbers between 100 and 200 are:\n",
      " 173\n",
      "Prime numbers between 100 and 200 are:\n",
      " 173\n",
      "Prime numbers between 100 and 200 are:\n",
      " 173\n",
      "Prime numbers between 100 and 200 are:\n",
      " 173\n",
      "Prime numbers between 100 and 200 are:\n",
      " 179\n",
      "Prime numbers between 100 and 200 are:\n",
      " 179\n",
      "Prime numbers between 100 and 200 are:\n",
      " 181\n",
      "Prime numbers between 100 and 200 are:\n",
      " 181\n",
      "Prime numbers between 100 and 200 are:\n",
      " 181\n",
      "Prime numbers between 100 and 200 are:\n",
      " 181\n",
      "Prime numbers between 100 and 200 are:\n",
      " 181\n",
      "Prime numbers between 100 and 200 are:\n",
      " 181\n",
      "Prime numbers between 100 and 200 are:\n",
      " 181\n",
      "Prime numbers between 100 and 200 are:\n",
      " 181\n",
      "Prime numbers between 100 and 200 are:\n",
      " 181\n",
      "Prime numbers between 100 and 200 are:\n",
      " 181\n",
      "Prime numbers between 100 and 200 are:\n",
      " 191\n",
      "Prime numbers between 100 and 200 are:\n",
      " 191\n",
      "Prime numbers between 100 and 200 are:\n",
      " 193\n",
      "Prime numbers between 100 and 200 are:\n",
      " 193\n",
      "Prime numbers between 100 and 200 are:\n",
      " 193\n",
      "Prime numbers between 100 and 200 are:\n",
      " 193\n",
      "Prime numbers between 100 and 200 are:\n",
      " 197\n",
      "Prime numbers between 100 and 200 are:\n",
      " 197\n",
      "Prime numbers between 100 and 200 are:\n",
      " 199\n",
      "Prime numbers between 100 and 200 are:\n",
      " 199\n",
      "The total count of prime number in the given interval is :  21\n"
     ]
    }
   ],
   "source": [
    "lbd = int(input(\"Enter the lower bound : \"))\n",
    "ubd = int(input(\"Enter the upper bound : \"))\n",
    "\n",
    " print(\"Prime numbers between\", lbd, \"and\", ubd, \"are:\\n\",prime)\n",
    "c = 0\n",
    "for prime in range(lbd,ubd+1):\n",
    "    if prime > 1:\n",
    "        for i in range(2,prime):\n",
    "            if prime % i  == 0:\n",
    "                break\n",
    "        else:\n",
    "            c = c + 1\n",
    "            print(prime)\n",
    "print(\"The total count of prime number in the given interval is : \", c)"
   ]
  },
  {
   "cell_type": "code",
   "execution_count": null,
   "metadata": {},
   "outputs": [],
   "source": []
  }
 ],
 "metadata": {
  "kernelspec": {
   "display_name": "Python 3",
   "language": "python",
   "name": "python3"
  },
  "language_info": {
   "codemirror_mode": {
    "name": "ipython",
    "version": 3
   },
   "file_extension": ".py",
   "mimetype": "text/x-python",
   "name": "python",
   "nbconvert_exporter": "python",
   "pygments_lexer": "ipython3",
   "version": "3.8.5"
  }
 },
 "nbformat": 4,
 "nbformat_minor": 4
}
